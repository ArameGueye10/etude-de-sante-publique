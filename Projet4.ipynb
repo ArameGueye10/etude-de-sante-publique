{
 "cells": [
  {
   "cell_type": "code",
   "execution_count": 1,
   "id": "859bc4f7-4067-4d88-8669-a729972fbecb",
   "metadata": {},
   "outputs": [],
   "source": [
    "#importtation de mes librairies\n",
    "import pandas as pd\n",
    "import numpy as np\n",
    "import matplotlib as plt\n",
    "import seaborn as sns\n",
    "\n",
    "\n",
    "#lecture de mes fichiers\n",
    "aideAlimentaire = pd.read_csv(\"aide_alimentaire.csv\")\n",
    "dispoAlimentaire = pd.read_csv(\"dispo_alimentaire.csv\")\n",
    "population = pd.read_csv(\"population.csv\")\n",
    "sousNutrition = pd.read_csv(\"sous_nutrition.csv\")"
   ]
  },
  {
   "cell_type": "markdown",
   "id": "903f1d38-b36f-4e8c-95bd-4ec9da81a85a",
   "metadata": {},
   "source": [
    "**aide alimantaire**"
   ]
  },
  {
   "cell_type": "code",
   "execution_count": 2,
   "id": "5c38b098-3523-425e-8c70-d04af6721f4c",
   "metadata": {},
   "outputs": [
    {
     "data": {
      "text/html": [
       "<div>\n",
       "<style scoped>\n",
       "    .dataframe tbody tr th:only-of-type {\n",
       "        vertical-align: middle;\n",
       "    }\n",
       "\n",
       "    .dataframe tbody tr th {\n",
       "        vertical-align: top;\n",
       "    }\n",
       "\n",
       "    .dataframe thead th {\n",
       "        text-align: right;\n",
       "    }\n",
       "</style>\n",
       "<table border=\"1\" class=\"dataframe\">\n",
       "  <thead>\n",
       "    <tr style=\"text-align: right;\">\n",
       "      <th></th>\n",
       "      <th>Pays bénéficiaire</th>\n",
       "      <th>Année</th>\n",
       "      <th>Produit</th>\n",
       "      <th>Valeur</th>\n",
       "    </tr>\n",
       "  </thead>\n",
       "  <tbody>\n",
       "    <tr>\n",
       "      <th>0</th>\n",
       "      <td>Afghanistan</td>\n",
       "      <td>2013</td>\n",
       "      <td>Autres non-céréales</td>\n",
       "      <td>682</td>\n",
       "    </tr>\n",
       "    <tr>\n",
       "      <th>1</th>\n",
       "      <td>Afghanistan</td>\n",
       "      <td>2014</td>\n",
       "      <td>Autres non-céréales</td>\n",
       "      <td>335</td>\n",
       "    </tr>\n",
       "    <tr>\n",
       "      <th>2</th>\n",
       "      <td>Afghanistan</td>\n",
       "      <td>2013</td>\n",
       "      <td>Blé et Farin</td>\n",
       "      <td>39224</td>\n",
       "    </tr>\n",
       "    <tr>\n",
       "      <th>3</th>\n",
       "      <td>Afghanistan</td>\n",
       "      <td>2014</td>\n",
       "      <td>Blé et Farin</td>\n",
       "      <td>15160</td>\n",
       "    </tr>\n",
       "    <tr>\n",
       "      <th>4</th>\n",
       "      <td>Afghanistan</td>\n",
       "      <td>2013</td>\n",
       "      <td>Céréales</td>\n",
       "      <td>40504</td>\n",
       "    </tr>\n",
       "  </tbody>\n",
       "</table>\n",
       "</div>"
      ],
      "text/plain": [
       "  Pays bénéficiaire  Année              Produit  Valeur\n",
       "0       Afghanistan   2013  Autres non-céréales     682\n",
       "1       Afghanistan   2014  Autres non-céréales     335\n",
       "2       Afghanistan   2013         Blé et Farin   39224\n",
       "3       Afghanistan   2014         Blé et Farin   15160\n",
       "4       Afghanistan   2013             Céréales   40504"
      ]
     },
     "execution_count": 2,
     "metadata": {},
     "output_type": "execute_result"
    }
   ],
   "source": [
    "aideAlimentaire.head()"
   ]
  },
  {
   "cell_type": "code",
   "execution_count": 3,
   "id": "f305cb61-82b9-4dc2-87cc-6d58518de112",
   "metadata": {},
   "outputs": [
    {
     "data": {
      "text/plain": [
       "Pays bénéficiaire    object\n",
       "Année                 int64\n",
       "Produit              object\n",
       "Valeur                int64\n",
       "dtype: object"
      ]
     },
     "execution_count": 3,
     "metadata": {},
     "output_type": "execute_result"
    }
   ],
   "source": [
    "aideAlimentaire.dtypes"
   ]
  },
  {
   "cell_type": "code",
   "execution_count": 4,
   "id": "1dfc0c0e-5fef-4f65-a099-fc16bfe6432c",
   "metadata": {},
   "outputs": [
    {
     "data": {
      "text/html": [
       "<div>\n",
       "<style scoped>\n",
       "    .dataframe tbody tr th:only-of-type {\n",
       "        vertical-align: middle;\n",
       "    }\n",
       "\n",
       "    .dataframe tbody tr th {\n",
       "        vertical-align: top;\n",
       "    }\n",
       "\n",
       "    .dataframe thead th {\n",
       "        text-align: right;\n",
       "    }\n",
       "</style>\n",
       "<table border=\"1\" class=\"dataframe\">\n",
       "  <thead>\n",
       "    <tr style=\"text-align: right;\">\n",
       "      <th></th>\n",
       "      <th>Année</th>\n",
       "      <th>Valeur</th>\n",
       "    </tr>\n",
       "  </thead>\n",
       "  <tbody>\n",
       "    <tr>\n",
       "      <th>count</th>\n",
       "      <td>1475.000000</td>\n",
       "      <td>1475.000000</td>\n",
       "    </tr>\n",
       "    <tr>\n",
       "      <th>mean</th>\n",
       "      <td>2014.054237</td>\n",
       "      <td>7481.966780</td>\n",
       "    </tr>\n",
       "    <tr>\n",
       "      <th>std</th>\n",
       "      <td>0.946916</td>\n",
       "      <td>23339.531424</td>\n",
       "    </tr>\n",
       "    <tr>\n",
       "      <th>min</th>\n",
       "      <td>2013.000000</td>\n",
       "      <td>0.000000</td>\n",
       "    </tr>\n",
       "    <tr>\n",
       "      <th>25%</th>\n",
       "      <td>2013.000000</td>\n",
       "      <td>287.500000</td>\n",
       "    </tr>\n",
       "    <tr>\n",
       "      <th>50%</th>\n",
       "      <td>2014.000000</td>\n",
       "      <td>1178.000000</td>\n",
       "    </tr>\n",
       "    <tr>\n",
       "      <th>75%</th>\n",
       "      <td>2015.000000</td>\n",
       "      <td>4334.500000</td>\n",
       "    </tr>\n",
       "    <tr>\n",
       "      <th>max</th>\n",
       "      <td>2016.000000</td>\n",
       "      <td>265013.000000</td>\n",
       "    </tr>\n",
       "  </tbody>\n",
       "</table>\n",
       "</div>"
      ],
      "text/plain": [
       "             Année         Valeur\n",
       "count  1475.000000    1475.000000\n",
       "mean   2014.054237    7481.966780\n",
       "std       0.946916   23339.531424\n",
       "min    2013.000000       0.000000\n",
       "25%    2013.000000     287.500000\n",
       "50%    2014.000000    1178.000000\n",
       "75%    2015.000000    4334.500000\n",
       "max    2016.000000  265013.000000"
      ]
     },
     "execution_count": 4,
     "metadata": {},
     "output_type": "execute_result"
    }
   ],
   "source": [
    "aideAlimentaire.describe()"
   ]
  },
  {
   "cell_type": "code",
   "execution_count": 5,
   "id": "55f207c5-df30-4fe8-ac52-10d9262ae825",
   "metadata": {},
   "outputs": [
    {
     "name": "stdout",
     "output_type": "stream",
     "text": [
      "<class 'pandas.core.frame.DataFrame'>\n",
      "RangeIndex: 1475 entries, 0 to 1474\n",
      "Data columns (total 4 columns):\n",
      " #   Column             Non-Null Count  Dtype \n",
      "---  ------             --------------  ----- \n",
      " 0   Pays bénéficiaire  1475 non-null   object\n",
      " 1   Année              1475 non-null   int64 \n",
      " 2   Produit            1475 non-null   object\n",
      " 3   Valeur             1475 non-null   int64 \n",
      "dtypes: int64(2), object(2)\n",
      "memory usage: 46.2+ KB\n"
     ]
    }
   ],
   "source": [
    "aideAlimentaire.info()"
   ]
  },
  {
   "cell_type": "markdown",
   "id": "2e1267ba-f95c-498c-a036-374c22979220",
   "metadata": {},
   "source": [
    "**dispo alimentaire**"
   ]
  },
  {
   "cell_type": "code",
   "execution_count": 6,
   "id": "0ced9432-7e4b-492d-83aa-b5d4fcb3ec34",
   "metadata": {},
   "outputs": [
    {
     "name": "stdout",
     "output_type": "stream",
     "text": [
      "<class 'pandas.core.frame.DataFrame'>\n",
      "RangeIndex: 15605 entries, 0 to 15604\n",
      "Data columns (total 18 columns):\n",
      " #   Column                                                         Non-Null Count  Dtype  \n",
      "---  ------                                                         --------------  -----  \n",
      " 0   Zone                                                           15605 non-null  object \n",
      " 1   Produit                                                        15605 non-null  object \n",
      " 2   Origine                                                        15605 non-null  object \n",
      " 3   Aliments pour animaux                                          2720 non-null   float64\n",
      " 4   Autres Utilisations                                            5496 non-null   float64\n",
      " 5   Disponibilité alimentaire (Kcal/personne/jour)                 14241 non-null  float64\n",
      " 6   Disponibilité alimentaire en quantité (kg/personne/an)         14015 non-null  float64\n",
      " 7   Disponibilité de matière grasse en quantité (g/personne/jour)  11794 non-null  float64\n",
      " 8   Disponibilité de protéines en quantité (g/personne/jour)       11561 non-null  float64\n",
      " 9   Disponibilité intérieure                                       15382 non-null  float64\n",
      " 10  Exportations - Quantité                                        12226 non-null  float64\n",
      " 11  Importations - Quantité                                        14852 non-null  float64\n",
      " 12  Nourriture                                                     14015 non-null  float64\n",
      " 13  Pertes                                                         4278 non-null   float64\n",
      " 14  Production                                                     9180 non-null   float64\n",
      " 15  Semences                                                       2091 non-null   float64\n",
      " 16  Traitement                                                     2292 non-null   float64\n",
      " 17  Variation de stock                                             6776 non-null   float64\n",
      "dtypes: float64(15), object(3)\n",
      "memory usage: 2.1+ MB\n"
     ]
    }
   ],
   "source": [
    "dispoAlimentaire.info()"
   ]
  },
  {
   "cell_type": "code",
   "execution_count": 7,
   "id": "6a34137d-cc50-4464-aa26-019a490e7c96",
   "metadata": {},
   "outputs": [
    {
     "data": {
      "text/html": [
       "<div>\n",
       "<style scoped>\n",
       "    .dataframe tbody tr th:only-of-type {\n",
       "        vertical-align: middle;\n",
       "    }\n",
       "\n",
       "    .dataframe tbody tr th {\n",
       "        vertical-align: top;\n",
       "    }\n",
       "\n",
       "    .dataframe thead th {\n",
       "        text-align: right;\n",
       "    }\n",
       "</style>\n",
       "<table border=\"1\" class=\"dataframe\">\n",
       "  <thead>\n",
       "    <tr style=\"text-align: right;\">\n",
       "      <th></th>\n",
       "      <th>Aliments pour animaux</th>\n",
       "      <th>Autres Utilisations</th>\n",
       "      <th>Disponibilité alimentaire (Kcal/personne/jour)</th>\n",
       "      <th>Disponibilité alimentaire en quantité (kg/personne/an)</th>\n",
       "      <th>Disponibilité de matière grasse en quantité (g/personne/jour)</th>\n",
       "      <th>Disponibilité de protéines en quantité (g/personne/jour)</th>\n",
       "      <th>Disponibilité intérieure</th>\n",
       "      <th>Exportations - Quantité</th>\n",
       "      <th>Importations - Quantité</th>\n",
       "      <th>Nourriture</th>\n",
       "      <th>Pertes</th>\n",
       "      <th>Production</th>\n",
       "      <th>Semences</th>\n",
       "      <th>Traitement</th>\n",
       "      <th>Variation de stock</th>\n",
       "    </tr>\n",
       "  </thead>\n",
       "  <tbody>\n",
       "    <tr>\n",
       "      <th>count</th>\n",
       "      <td>2720.000000</td>\n",
       "      <td>5496.000000</td>\n",
       "      <td>14241.000000</td>\n",
       "      <td>14015.000000</td>\n",
       "      <td>11794.000000</td>\n",
       "      <td>11561.000000</td>\n",
       "      <td>15382.000000</td>\n",
       "      <td>12226.000000</td>\n",
       "      <td>14852.000000</td>\n",
       "      <td>14015.000000</td>\n",
       "      <td>4278.000000</td>\n",
       "      <td>9180.000000</td>\n",
       "      <td>2091.000000</td>\n",
       "      <td>2292.000000</td>\n",
       "      <td>6776.000000</td>\n",
       "    </tr>\n",
       "    <tr>\n",
       "      <th>mean</th>\n",
       "      <td>479.501838</td>\n",
       "      <td>157.391376</td>\n",
       "      <td>34.789832</td>\n",
       "      <td>8.719368</td>\n",
       "      <td>1.283111</td>\n",
       "      <td>1.223608</td>\n",
       "      <td>640.293460</td>\n",
       "      <td>110.596925</td>\n",
       "      <td>87.264543</td>\n",
       "      <td>347.931359</td>\n",
       "      <td>106.053763</td>\n",
       "      <td>1090.379085</td>\n",
       "      <td>73.974653</td>\n",
       "      <td>961.905323</td>\n",
       "      <td>-15.407615</td>\n",
       "    </tr>\n",
       "    <tr>\n",
       "      <th>std</th>\n",
       "      <td>4240.119637</td>\n",
       "      <td>5076.785816</td>\n",
       "      <td>107.287655</td>\n",
       "      <td>24.618223</td>\n",
       "      <td>3.680399</td>\n",
       "      <td>3.598686</td>\n",
       "      <td>9067.267153</td>\n",
       "      <td>1053.318990</td>\n",
       "      <td>717.372714</td>\n",
       "      <td>4475.704458</td>\n",
       "      <td>1113.100416</td>\n",
       "      <td>12067.344094</td>\n",
       "      <td>528.069224</td>\n",
       "      <td>10381.795904</td>\n",
       "      <td>549.834540</td>\n",
       "    </tr>\n",
       "    <tr>\n",
       "      <th>min</th>\n",
       "      <td>0.000000</td>\n",
       "      <td>0.000000</td>\n",
       "      <td>-21.000000</td>\n",
       "      <td>-1.930000</td>\n",
       "      <td>-0.030000</td>\n",
       "      <td>-0.370000</td>\n",
       "      <td>-3430.000000</td>\n",
       "      <td>-41.000000</td>\n",
       "      <td>-201.000000</td>\n",
       "      <td>-246.000000</td>\n",
       "      <td>0.000000</td>\n",
       "      <td>0.000000</td>\n",
       "      <td>0.000000</td>\n",
       "      <td>-19.000000</td>\n",
       "      <td>-39863.000000</td>\n",
       "    </tr>\n",
       "    <tr>\n",
       "      <th>25%</th>\n",
       "      <td>0.000000</td>\n",
       "      <td>0.000000</td>\n",
       "      <td>0.000000</td>\n",
       "      <td>0.060000</td>\n",
       "      <td>0.010000</td>\n",
       "      <td>0.010000</td>\n",
       "      <td>0.000000</td>\n",
       "      <td>0.000000</td>\n",
       "      <td>0.000000</td>\n",
       "      <td>0.000000</td>\n",
       "      <td>0.000000</td>\n",
       "      <td>2.000000</td>\n",
       "      <td>0.000000</td>\n",
       "      <td>0.000000</td>\n",
       "      <td>0.000000</td>\n",
       "    </tr>\n",
       "    <tr>\n",
       "      <th>50%</th>\n",
       "      <td>4.000000</td>\n",
       "      <td>0.000000</td>\n",
       "      <td>4.000000</td>\n",
       "      <td>0.830000</td>\n",
       "      <td>0.080000</td>\n",
       "      <td>0.100000</td>\n",
       "      <td>7.000000</td>\n",
       "      <td>0.000000</td>\n",
       "      <td>2.000000</td>\n",
       "      <td>5.000000</td>\n",
       "      <td>4.000000</td>\n",
       "      <td>22.000000</td>\n",
       "      <td>2.000000</td>\n",
       "      <td>6.000000</td>\n",
       "      <td>0.000000</td>\n",
       "    </tr>\n",
       "    <tr>\n",
       "      <th>75%</th>\n",
       "      <td>74.000000</td>\n",
       "      <td>4.000000</td>\n",
       "      <td>21.000000</td>\n",
       "      <td>5.190000</td>\n",
       "      <td>0.630000</td>\n",
       "      <td>0.660000</td>\n",
       "      <td>76.750000</td>\n",
       "      <td>9.000000</td>\n",
       "      <td>18.000000</td>\n",
       "      <td>52.000000</td>\n",
       "      <td>26.000000</td>\n",
       "      <td>191.250000</td>\n",
       "      <td>17.000000</td>\n",
       "      <td>69.000000</td>\n",
       "      <td>0.000000</td>\n",
       "    </tr>\n",
       "    <tr>\n",
       "      <th>max</th>\n",
       "      <td>150000.000000</td>\n",
       "      <td>347309.000000</td>\n",
       "      <td>1711.000000</td>\n",
       "      <td>430.760000</td>\n",
       "      <td>60.760000</td>\n",
       "      <td>54.970000</td>\n",
       "      <td>739267.000000</td>\n",
       "      <td>42797.000000</td>\n",
       "      <td>63381.000000</td>\n",
       "      <td>426850.000000</td>\n",
       "      <td>55047.000000</td>\n",
       "      <td>739267.000000</td>\n",
       "      <td>17060.000000</td>\n",
       "      <td>326711.000000</td>\n",
       "      <td>5284.000000</td>\n",
       "    </tr>\n",
       "  </tbody>\n",
       "</table>\n",
       "</div>"
      ],
      "text/plain": [
       "       Aliments pour animaux  Autres Utilisations  \\\n",
       "count            2720.000000          5496.000000   \n",
       "mean              479.501838           157.391376   \n",
       "std              4240.119637          5076.785816   \n",
       "min                 0.000000             0.000000   \n",
       "25%                 0.000000             0.000000   \n",
       "50%                 4.000000             0.000000   \n",
       "75%                74.000000             4.000000   \n",
       "max            150000.000000        347309.000000   \n",
       "\n",
       "       Disponibilité alimentaire (Kcal/personne/jour)  \\\n",
       "count                                    14241.000000   \n",
       "mean                                        34.789832   \n",
       "std                                        107.287655   \n",
       "min                                        -21.000000   \n",
       "25%                                          0.000000   \n",
       "50%                                          4.000000   \n",
       "75%                                         21.000000   \n",
       "max                                       1711.000000   \n",
       "\n",
       "       Disponibilité alimentaire en quantité (kg/personne/an)  \\\n",
       "count                                       14015.000000        \n",
       "mean                                            8.719368        \n",
       "std                                            24.618223        \n",
       "min                                            -1.930000        \n",
       "25%                                             0.060000        \n",
       "50%                                             0.830000        \n",
       "75%                                             5.190000        \n",
       "max                                           430.760000        \n",
       "\n",
       "       Disponibilité de matière grasse en quantité (g/personne/jour)  \\\n",
       "count                                       11794.000000               \n",
       "mean                                            1.283111               \n",
       "std                                             3.680399               \n",
       "min                                            -0.030000               \n",
       "25%                                             0.010000               \n",
       "50%                                             0.080000               \n",
       "75%                                             0.630000               \n",
       "max                                            60.760000               \n",
       "\n",
       "       Disponibilité de protéines en quantité (g/personne/jour)  \\\n",
       "count                                       11561.000000          \n",
       "mean                                            1.223608          \n",
       "std                                             3.598686          \n",
       "min                                            -0.370000          \n",
       "25%                                             0.010000          \n",
       "50%                                             0.100000          \n",
       "75%                                             0.660000          \n",
       "max                                            54.970000          \n",
       "\n",
       "       Disponibilité intérieure  Exportations - Quantité  \\\n",
       "count              15382.000000             12226.000000   \n",
       "mean                 640.293460               110.596925   \n",
       "std                 9067.267153              1053.318990   \n",
       "min                -3430.000000               -41.000000   \n",
       "25%                    0.000000                 0.000000   \n",
       "50%                    7.000000                 0.000000   \n",
       "75%                   76.750000                 9.000000   \n",
       "max               739267.000000             42797.000000   \n",
       "\n",
       "       Importations - Quantité     Nourriture        Pertes     Production  \\\n",
       "count             14852.000000   14015.000000   4278.000000    9180.000000   \n",
       "mean                 87.264543     347.931359    106.053763    1090.379085   \n",
       "std                 717.372714    4475.704458   1113.100416   12067.344094   \n",
       "min                -201.000000    -246.000000      0.000000       0.000000   \n",
       "25%                   0.000000       0.000000      0.000000       2.000000   \n",
       "50%                   2.000000       5.000000      4.000000      22.000000   \n",
       "75%                  18.000000      52.000000     26.000000     191.250000   \n",
       "max               63381.000000  426850.000000  55047.000000  739267.000000   \n",
       "\n",
       "           Semences     Traitement  Variation de stock  \n",
       "count   2091.000000    2292.000000         6776.000000  \n",
       "mean      73.974653     961.905323          -15.407615  \n",
       "std      528.069224   10381.795904          549.834540  \n",
       "min        0.000000     -19.000000       -39863.000000  \n",
       "25%        0.000000       0.000000            0.000000  \n",
       "50%        2.000000       6.000000            0.000000  \n",
       "75%       17.000000      69.000000            0.000000  \n",
       "max    17060.000000  326711.000000         5284.000000  "
      ]
     },
     "execution_count": 7,
     "metadata": {},
     "output_type": "execute_result"
    }
   ],
   "source": [
    "dispoAlimentaire.describe()"
   ]
  },
  {
   "cell_type": "markdown",
   "id": "3252f33e-9e0d-4857-bbb1-9563d557a036",
   "metadata": {},
   "source": [
    "**population**"
   ]
  },
  {
   "cell_type": "code",
   "execution_count": 8,
   "id": "b509cd73-4ce5-401d-90bd-1058f6b6c461",
   "metadata": {},
   "outputs": [
    {
     "name": "stdout",
     "output_type": "stream",
     "text": [
      "<class 'pandas.core.frame.DataFrame'>\n",
      "RangeIndex: 1416 entries, 0 to 1415\n",
      "Data columns (total 3 columns):\n",
      " #   Column  Non-Null Count  Dtype  \n",
      "---  ------  --------------  -----  \n",
      " 0   Zone    1416 non-null   object \n",
      " 1   Année   1416 non-null   int64  \n",
      " 2   Valeur  1416 non-null   float64\n",
      "dtypes: float64(1), int64(1), object(1)\n",
      "memory usage: 33.3+ KB\n"
     ]
    }
   ],
   "source": [
    "population.info()"
   ]
  },
  {
   "cell_type": "code",
   "execution_count": 9,
   "id": "0f80ce2b-7b4f-4e4f-97e5-51fb4a316551",
   "metadata": {},
   "outputs": [
    {
     "data": {
      "text/html": [
       "<div>\n",
       "<style scoped>\n",
       "    .dataframe tbody tr th:only-of-type {\n",
       "        vertical-align: middle;\n",
       "    }\n",
       "\n",
       "    .dataframe tbody tr th {\n",
       "        vertical-align: top;\n",
       "    }\n",
       "\n",
       "    .dataframe thead th {\n",
       "        text-align: right;\n",
       "    }\n",
       "</style>\n",
       "<table border=\"1\" class=\"dataframe\">\n",
       "  <thead>\n",
       "    <tr style=\"text-align: right;\">\n",
       "      <th></th>\n",
       "      <th>Année</th>\n",
       "      <th>Valeur</th>\n",
       "    </tr>\n",
       "  </thead>\n",
       "  <tbody>\n",
       "    <tr>\n",
       "      <th>count</th>\n",
       "      <td>1416.000000</td>\n",
       "      <td>1.416000e+03</td>\n",
       "    </tr>\n",
       "    <tr>\n",
       "      <th>mean</th>\n",
       "      <td>2015.500000</td>\n",
       "      <td>3.144793e+04</td>\n",
       "    </tr>\n",
       "    <tr>\n",
       "      <th>std</th>\n",
       "      <td>1.708428</td>\n",
       "      <td>1.300812e+05</td>\n",
       "    </tr>\n",
       "    <tr>\n",
       "      <th>min</th>\n",
       "      <td>2013.000000</td>\n",
       "      <td>7.930000e-01</td>\n",
       "    </tr>\n",
       "    <tr>\n",
       "      <th>25%</th>\n",
       "      <td>2014.000000</td>\n",
       "      <td>3.783410e+02</td>\n",
       "    </tr>\n",
       "    <tr>\n",
       "      <th>50%</th>\n",
       "      <td>2015.500000</td>\n",
       "      <td>5.126480e+03</td>\n",
       "    </tr>\n",
       "    <tr>\n",
       "      <th>75%</th>\n",
       "      <td>2017.000000</td>\n",
       "      <td>1.930666e+04</td>\n",
       "    </tr>\n",
       "    <tr>\n",
       "      <th>max</th>\n",
       "      <td>2018.000000</td>\n",
       "      <td>1.427648e+06</td>\n",
       "    </tr>\n",
       "  </tbody>\n",
       "</table>\n",
       "</div>"
      ],
      "text/plain": [
       "             Année        Valeur\n",
       "count  1416.000000  1.416000e+03\n",
       "mean   2015.500000  3.144793e+04\n",
       "std       1.708428  1.300812e+05\n",
       "min    2013.000000  7.930000e-01\n",
       "25%    2014.000000  3.783410e+02\n",
       "50%    2015.500000  5.126480e+03\n",
       "75%    2017.000000  1.930666e+04\n",
       "max    2018.000000  1.427648e+06"
      ]
     },
     "execution_count": 9,
     "metadata": {},
     "output_type": "execute_result"
    }
   ],
   "source": [
    "population.describe()"
   ]
  },
  {
   "cell_type": "markdown",
   "id": "a28f0d74-3723-4473-a965-c9c70743bf61",
   "metadata": {},
   "source": [
    "**sous nutrition**"
   ]
  },
  {
   "cell_type": "code",
   "execution_count": 10,
   "id": "1951b87a-663c-49b2-a0b4-617b20125f53",
   "metadata": {},
   "outputs": [
    {
     "name": "stdout",
     "output_type": "stream",
     "text": [
      "<class 'pandas.core.frame.DataFrame'>\n",
      "RangeIndex: 1218 entries, 0 to 1217\n",
      "Data columns (total 3 columns):\n",
      " #   Column  Non-Null Count  Dtype \n",
      "---  ------  --------------  ----- \n",
      " 0   Zone    1218 non-null   object\n",
      " 1   Année   1218 non-null   object\n",
      " 2   Valeur  624 non-null    object\n",
      "dtypes: object(3)\n",
      "memory usage: 28.7+ KB\n"
     ]
    }
   ],
   "source": [
    "sousNutrition.info()"
   ]
  },
  {
   "cell_type": "code",
   "execution_count": 11,
   "id": "65675956-d5b1-4e46-bcc4-e7108d66bea2",
   "metadata": {},
   "outputs": [
    {
     "data": {
      "text/html": [
       "<div>\n",
       "<style scoped>\n",
       "    .dataframe tbody tr th:only-of-type {\n",
       "        vertical-align: middle;\n",
       "    }\n",
       "\n",
       "    .dataframe tbody tr th {\n",
       "        vertical-align: top;\n",
       "    }\n",
       "\n",
       "    .dataframe thead th {\n",
       "        text-align: right;\n",
       "    }\n",
       "</style>\n",
       "<table border=\"1\" class=\"dataframe\">\n",
       "  <thead>\n",
       "    <tr style=\"text-align: right;\">\n",
       "      <th></th>\n",
       "      <th>Zone</th>\n",
       "      <th>Année</th>\n",
       "      <th>Valeur</th>\n",
       "    </tr>\n",
       "  </thead>\n",
       "  <tbody>\n",
       "    <tr>\n",
       "      <th>0</th>\n",
       "      <td>Afghanistan</td>\n",
       "      <td>2012-2014</td>\n",
       "      <td>8.6</td>\n",
       "    </tr>\n",
       "    <tr>\n",
       "      <th>1</th>\n",
       "      <td>Afghanistan</td>\n",
       "      <td>2013-2015</td>\n",
       "      <td>8.8</td>\n",
       "    </tr>\n",
       "    <tr>\n",
       "      <th>2</th>\n",
       "      <td>Afghanistan</td>\n",
       "      <td>2014-2016</td>\n",
       "      <td>8.9</td>\n",
       "    </tr>\n",
       "    <tr>\n",
       "      <th>3</th>\n",
       "      <td>Afghanistan</td>\n",
       "      <td>2015-2017</td>\n",
       "      <td>9.7</td>\n",
       "    </tr>\n",
       "    <tr>\n",
       "      <th>4</th>\n",
       "      <td>Afghanistan</td>\n",
       "      <td>2016-2018</td>\n",
       "      <td>10.5</td>\n",
       "    </tr>\n",
       "  </tbody>\n",
       "</table>\n",
       "</div>"
      ],
      "text/plain": [
       "          Zone      Année Valeur\n",
       "0  Afghanistan  2012-2014    8.6\n",
       "1  Afghanistan  2013-2015    8.8\n",
       "2  Afghanistan  2014-2016    8.9\n",
       "3  Afghanistan  2015-2017    9.7\n",
       "4  Afghanistan  2016-2018   10.5"
      ]
     },
     "execution_count": 11,
     "metadata": {},
     "output_type": "execute_result"
    }
   ],
   "source": [
    "sousNutrition.head()"
   ]
  },
  {
   "cell_type": "markdown",
   "id": "b77cf906-7773-4563-bcaf-203b6dadc049",
   "metadata": {},
   "source": [
    "**Transformation des données**"
   ]
  },
  {
   "cell_type": "code",
   "execution_count": 12,
   "id": "4726b398-8db9-4883-939c-c6edeceeca3d",
   "metadata": {},
   "outputs": [],
   "source": [
    "sousNutrition[\"Valeur\"] = sousNutrition[\"Valeur\"].replace('<0.1' , '0.05' )"
   ]
  },
  {
   "cell_type": "code",
   "execution_count": 13,
   "id": "db6469fe-16a8-4d7b-a9bd-24cc709f2bf7",
   "metadata": {},
   "outputs": [],
   "source": [
    "sousNutrition[\"Valeur\"] = sousNutrition['Valeur'].astype(float)"
   ]
  },
  {
   "cell_type": "code",
   "execution_count": 14,
   "id": "dc2681dd-ada5-4860-b235-6704da590c53",
   "metadata": {},
   "outputs": [
    {
     "data": {
      "text/html": [
       "<div>\n",
       "<style scoped>\n",
       "    .dataframe tbody tr th:only-of-type {\n",
       "        vertical-align: middle;\n",
       "    }\n",
       "\n",
       "    .dataframe tbody tr th {\n",
       "        vertical-align: top;\n",
       "    }\n",
       "\n",
       "    .dataframe thead th {\n",
       "        text-align: right;\n",
       "    }\n",
       "</style>\n",
       "<table border=\"1\" class=\"dataframe\">\n",
       "  <thead>\n",
       "    <tr style=\"text-align: right;\">\n",
       "      <th></th>\n",
       "      <th>Valeur</th>\n",
       "    </tr>\n",
       "  </thead>\n",
       "  <tbody>\n",
       "    <tr>\n",
       "      <th>count</th>\n",
       "      <td>624.000000</td>\n",
       "    </tr>\n",
       "    <tr>\n",
       "      <th>mean</th>\n",
       "      <td>5.113462</td>\n",
       "    </tr>\n",
       "    <tr>\n",
       "      <th>std</th>\n",
       "      <td>19.448316</td>\n",
       "    </tr>\n",
       "    <tr>\n",
       "      <th>min</th>\n",
       "      <td>0.050000</td>\n",
       "    </tr>\n",
       "    <tr>\n",
       "      <th>25%</th>\n",
       "      <td>0.275000</td>\n",
       "    </tr>\n",
       "    <tr>\n",
       "      <th>50%</th>\n",
       "      <td>1.100000</td>\n",
       "    </tr>\n",
       "    <tr>\n",
       "      <th>75%</th>\n",
       "      <td>3.900000</td>\n",
       "    </tr>\n",
       "    <tr>\n",
       "      <th>max</th>\n",
       "      <td>203.800000</td>\n",
       "    </tr>\n",
       "  </tbody>\n",
       "</table>\n",
       "</div>"
      ],
      "text/plain": [
       "           Valeur\n",
       "count  624.000000\n",
       "mean     5.113462\n",
       "std     19.448316\n",
       "min      0.050000\n",
       "25%      0.275000\n",
       "50%      1.100000\n",
       "75%      3.900000\n",
       "max    203.800000"
      ]
     },
     "execution_count": 14,
     "metadata": {},
     "output_type": "execute_result"
    }
   ],
   "source": [
    "sousNutrition.describe()"
   ]
  },
  {
   "cell_type": "code",
   "execution_count": 15,
   "id": "a57aa597-d1f4-4407-91e2-172ec51dff04",
   "metadata": {},
   "outputs": [],
   "source": [
    "sousNutrition['Année'] = sousNutrition['Année'].replace(['2012-2014', '2013-2015', '2014-2016', '2015-2017', '2016-2018', '2017-2019'],[2013, 2014, 2015, 2016, 2017, 2018])"
   ]
  },
  {
   "cell_type": "code",
   "execution_count": 16,
   "id": "0c5609e0-20b6-405b-a995-c54a7e057839",
   "metadata": {},
   "outputs": [
    {
     "data": {
      "text/html": [
       "<div>\n",
       "<style scoped>\n",
       "    .dataframe tbody tr th:only-of-type {\n",
       "        vertical-align: middle;\n",
       "    }\n",
       "\n",
       "    .dataframe tbody tr th {\n",
       "        vertical-align: top;\n",
       "    }\n",
       "\n",
       "    .dataframe thead th {\n",
       "        text-align: right;\n",
       "    }\n",
       "</style>\n",
       "<table border=\"1\" class=\"dataframe\">\n",
       "  <thead>\n",
       "    <tr style=\"text-align: right;\">\n",
       "      <th></th>\n",
       "      <th>Zone</th>\n",
       "      <th>Année</th>\n",
       "      <th>Valeur</th>\n",
       "    </tr>\n",
       "  </thead>\n",
       "  <tbody>\n",
       "    <tr>\n",
       "      <th>0</th>\n",
       "      <td>Afghanistan</td>\n",
       "      <td>2013</td>\n",
       "      <td>8.6</td>\n",
       "    </tr>\n",
       "    <tr>\n",
       "      <th>1</th>\n",
       "      <td>Afghanistan</td>\n",
       "      <td>2014</td>\n",
       "      <td>8.8</td>\n",
       "    </tr>\n",
       "    <tr>\n",
       "      <th>2</th>\n",
       "      <td>Afghanistan</td>\n",
       "      <td>2015</td>\n",
       "      <td>8.9</td>\n",
       "    </tr>\n",
       "    <tr>\n",
       "      <th>3</th>\n",
       "      <td>Afghanistan</td>\n",
       "      <td>2016</td>\n",
       "      <td>9.7</td>\n",
       "    </tr>\n",
       "    <tr>\n",
       "      <th>4</th>\n",
       "      <td>Afghanistan</td>\n",
       "      <td>2017</td>\n",
       "      <td>10.5</td>\n",
       "    </tr>\n",
       "  </tbody>\n",
       "</table>\n",
       "</div>"
      ],
      "text/plain": [
       "          Zone  Année  Valeur\n",
       "0  Afghanistan   2013     8.6\n",
       "1  Afghanistan   2014     8.8\n",
       "2  Afghanistan   2015     8.9\n",
       "3  Afghanistan   2016     9.7\n",
       "4  Afghanistan   2017    10.5"
      ]
     },
     "execution_count": 16,
     "metadata": {},
     "output_type": "execute_result"
    }
   ],
   "source": [
    "sousNutrition.head()"
   ]
  },
  {
   "cell_type": "code",
   "execution_count": 17,
   "id": "e9cba7d5-d57b-47c2-802b-521711799e09",
   "metadata": {},
   "outputs": [
    {
     "name": "stdout",
     "output_type": "stream",
     "text": [
      "<class 'pandas.core.frame.DataFrame'>\n",
      "RangeIndex: 1218 entries, 0 to 1217\n",
      "Data columns (total 3 columns):\n",
      " #   Column  Non-Null Count  Dtype  \n",
      "---  ------  --------------  -----  \n",
      " 0   Zone    1218 non-null   object \n",
      " 1   Année   1218 non-null   int64  \n",
      " 2   Valeur  624 non-null    float64\n",
      "dtypes: float64(1), int64(1), object(1)\n",
      "memory usage: 28.7+ KB\n"
     ]
    }
   ],
   "source": [
    "sousNutrition.info()"
   ]
  },
  {
   "cell_type": "markdown",
   "id": "e2e6ad32-0ef4-4c45-b15b-f9d97857e21c",
   "metadata": {},
   "source": [
    "***La proportion de personnes en état de sous-nutrition en 2017*** \n"
   ]
  },
  {
   "cell_type": "code",
   "execution_count": 18,
   "id": "1725c0d0-5ee4-4a16-95ef-24b83f3fafe4",
   "metadata": {},
   "outputs": [],
   "source": [
    "# la population mondiale en 2017\n",
    "\n",
    "population_mondiale_2017 = population[\"Année\"] == 2017 "
   ]
  },
  {
   "cell_type": "code",
   "execution_count": 19,
   "id": "99ceb75d-3909-45cd-a7bc-5c4954570831",
   "metadata": {},
   "outputs": [
    {
     "data": {
      "text/html": [
       "<div>\n",
       "<style scoped>\n",
       "    .dataframe tbody tr th:only-of-type {\n",
       "        vertical-align: middle;\n",
       "    }\n",
       "\n",
       "    .dataframe tbody tr th {\n",
       "        vertical-align: top;\n",
       "    }\n",
       "\n",
       "    .dataframe thead th {\n",
       "        text-align: right;\n",
       "    }\n",
       "</style>\n",
       "<table border=\"1\" class=\"dataframe\">\n",
       "  <thead>\n",
       "    <tr style=\"text-align: right;\">\n",
       "      <th></th>\n",
       "      <th>Zone</th>\n",
       "      <th>Année</th>\n",
       "      <th>Valeur</th>\n",
       "    </tr>\n",
       "  </thead>\n",
       "  <tbody>\n",
       "    <tr>\n",
       "      <th>4</th>\n",
       "      <td>Afghanistan</td>\n",
       "      <td>2017</td>\n",
       "      <td>36296.113</td>\n",
       "    </tr>\n",
       "    <tr>\n",
       "      <th>10</th>\n",
       "      <td>Afrique du Sud</td>\n",
       "      <td>2017</td>\n",
       "      <td>57009.756</td>\n",
       "    </tr>\n",
       "    <tr>\n",
       "      <th>16</th>\n",
       "      <td>Albanie</td>\n",
       "      <td>2017</td>\n",
       "      <td>2884.169</td>\n",
       "    </tr>\n",
       "    <tr>\n",
       "      <th>22</th>\n",
       "      <td>Algérie</td>\n",
       "      <td>2017</td>\n",
       "      <td>41389.189</td>\n",
       "    </tr>\n",
       "    <tr>\n",
       "      <th>28</th>\n",
       "      <td>Allemagne</td>\n",
       "      <td>2017</td>\n",
       "      <td>82658.409</td>\n",
       "    </tr>\n",
       "    <tr>\n",
       "      <th>...</th>\n",
       "      <td>...</td>\n",
       "      <td>...</td>\n",
       "      <td>...</td>\n",
       "    </tr>\n",
       "    <tr>\n",
       "      <th>1390</th>\n",
       "      <td>Venezuela (République bolivarienne du)</td>\n",
       "      <td>2017</td>\n",
       "      <td>29402.484</td>\n",
       "    </tr>\n",
       "    <tr>\n",
       "      <th>1396</th>\n",
       "      <td>Viet Nam</td>\n",
       "      <td>2017</td>\n",
       "      <td>94600.648</td>\n",
       "    </tr>\n",
       "    <tr>\n",
       "      <th>1402</th>\n",
       "      <td>Yémen</td>\n",
       "      <td>2017</td>\n",
       "      <td>27834.819</td>\n",
       "    </tr>\n",
       "    <tr>\n",
       "      <th>1408</th>\n",
       "      <td>Zambie</td>\n",
       "      <td>2017</td>\n",
       "      <td>16853.599</td>\n",
       "    </tr>\n",
       "    <tr>\n",
       "      <th>1414</th>\n",
       "      <td>Zimbabwe</td>\n",
       "      <td>2017</td>\n",
       "      <td>14236.595</td>\n",
       "    </tr>\n",
       "  </tbody>\n",
       "</table>\n",
       "<p>236 rows × 3 columns</p>\n",
       "</div>"
      ],
      "text/plain": [
       "                                        Zone  Année     Valeur\n",
       "4                                Afghanistan   2017  36296.113\n",
       "10                            Afrique du Sud   2017  57009.756\n",
       "16                                   Albanie   2017   2884.169\n",
       "22                                   Algérie   2017  41389.189\n",
       "28                                 Allemagne   2017  82658.409\n",
       "...                                      ...    ...        ...\n",
       "1390  Venezuela (République bolivarienne du)   2017  29402.484\n",
       "1396                                Viet Nam   2017  94600.648\n",
       "1402                                   Yémen   2017  27834.819\n",
       "1408                                  Zambie   2017  16853.599\n",
       "1414                                Zimbabwe   2017  14236.595\n",
       "\n",
       "[236 rows x 3 columns]"
      ]
     },
     "execution_count": 19,
     "metadata": {},
     "output_type": "execute_result"
    }
   ],
   "source": [
    "population[population_mondiale_2017]"
   ]
  },
  {
   "cell_type": "code",
   "execution_count": 20,
   "id": "d3b5a56d-0655-4138-917c-dceca605f2df",
   "metadata": {},
   "outputs": [],
   "source": [
    "population_mondiale_2017 = (population[population_mondiale_2017][\"Valeur\"]* 1000). sum()"
   ]
  },
  {
   "cell_type": "code",
   "execution_count": 21,
   "id": "c1390656-d9c1-4ce3-afff-6f0cd8cc44d1",
   "metadata": {},
   "outputs": [
    {
     "name": "stdout",
     "output_type": "stream",
     "text": [
      "La population mondiale en 2017 est  de 7548134111.0\n"
     ]
    }
   ],
   "source": [
    "print(\"La population mondiale en 2017 est  de\", population_mondiale_2017)"
   ]
  },
  {
   "cell_type": "code",
   "execution_count": 22,
   "id": "1d8af1f9-eaed-4d46-8a27-1ac40c73c08e",
   "metadata": {},
   "outputs": [],
   "source": [
    "# le nombre de personne en etat de sousnutrition en 2017"
   ]
  },
  {
   "cell_type": "code",
   "execution_count": 23,
   "id": "b97c608a-63dd-44b4-9c66-c23d5a537523",
   "metadata": {},
   "outputs": [],
   "source": [
    "pop_souNutrie_en_2017 = sousNutrition[\"Année\"] == 2017"
   ]
  },
  {
   "cell_type": "code",
   "execution_count": 24,
   "id": "09f864c6-3d70-4d23-8d74-c7ce67f80de0",
   "metadata": {},
   "outputs": [
    {
     "data": {
      "text/html": [
       "<div>\n",
       "<style scoped>\n",
       "    .dataframe tbody tr th:only-of-type {\n",
       "        vertical-align: middle;\n",
       "    }\n",
       "\n",
       "    .dataframe tbody tr th {\n",
       "        vertical-align: top;\n",
       "    }\n",
       "\n",
       "    .dataframe thead th {\n",
       "        text-align: right;\n",
       "    }\n",
       "</style>\n",
       "<table border=\"1\" class=\"dataframe\">\n",
       "  <thead>\n",
       "    <tr style=\"text-align: right;\">\n",
       "      <th></th>\n",
       "      <th>Zone</th>\n",
       "      <th>Année</th>\n",
       "      <th>Valeur</th>\n",
       "    </tr>\n",
       "  </thead>\n",
       "  <tbody>\n",
       "    <tr>\n",
       "      <th>4</th>\n",
       "      <td>Afghanistan</td>\n",
       "      <td>2017</td>\n",
       "      <td>10.5</td>\n",
       "    </tr>\n",
       "    <tr>\n",
       "      <th>10</th>\n",
       "      <td>Afrique du Sud</td>\n",
       "      <td>2017</td>\n",
       "      <td>3.1</td>\n",
       "    </tr>\n",
       "    <tr>\n",
       "      <th>16</th>\n",
       "      <td>Albanie</td>\n",
       "      <td>2017</td>\n",
       "      <td>0.1</td>\n",
       "    </tr>\n",
       "    <tr>\n",
       "      <th>22</th>\n",
       "      <td>Algérie</td>\n",
       "      <td>2017</td>\n",
       "      <td>1.3</td>\n",
       "    </tr>\n",
       "    <tr>\n",
       "      <th>28</th>\n",
       "      <td>Allemagne</td>\n",
       "      <td>2017</td>\n",
       "      <td>NaN</td>\n",
       "    </tr>\n",
       "    <tr>\n",
       "      <th>...</th>\n",
       "      <td>...</td>\n",
       "      <td>...</td>\n",
       "      <td>...</td>\n",
       "    </tr>\n",
       "    <tr>\n",
       "      <th>1192</th>\n",
       "      <td>Venezuela (République bolivarienne du)</td>\n",
       "      <td>2017</td>\n",
       "      <td>8.0</td>\n",
       "    </tr>\n",
       "    <tr>\n",
       "      <th>1198</th>\n",
       "      <td>Viet Nam</td>\n",
       "      <td>2017</td>\n",
       "      <td>6.5</td>\n",
       "    </tr>\n",
       "    <tr>\n",
       "      <th>1204</th>\n",
       "      <td>Yémen</td>\n",
       "      <td>2017</td>\n",
       "      <td>NaN</td>\n",
       "    </tr>\n",
       "    <tr>\n",
       "      <th>1210</th>\n",
       "      <td>Zambie</td>\n",
       "      <td>2017</td>\n",
       "      <td>NaN</td>\n",
       "    </tr>\n",
       "    <tr>\n",
       "      <th>1216</th>\n",
       "      <td>Zimbabwe</td>\n",
       "      <td>2017</td>\n",
       "      <td>NaN</td>\n",
       "    </tr>\n",
       "  </tbody>\n",
       "</table>\n",
       "<p>203 rows × 3 columns</p>\n",
       "</div>"
      ],
      "text/plain": [
       "                                        Zone  Année  Valeur\n",
       "4                                Afghanistan   2017    10.5\n",
       "10                            Afrique du Sud   2017     3.1\n",
       "16                                   Albanie   2017     0.1\n",
       "22                                   Algérie   2017     1.3\n",
       "28                                 Allemagne   2017     NaN\n",
       "...                                      ...    ...     ...\n",
       "1192  Venezuela (République bolivarienne du)   2017     8.0\n",
       "1198                                Viet Nam   2017     6.5\n",
       "1204                                   Yémen   2017     NaN\n",
       "1210                                  Zambie   2017     NaN\n",
       "1216                                Zimbabwe   2017     NaN\n",
       "\n",
       "[203 rows x 3 columns]"
      ]
     },
     "execution_count": 24,
     "metadata": {},
     "output_type": "execute_result"
    }
   ],
   "source": [
    "sousNutrition[pop_souNutrie_en_2017]"
   ]
  },
  {
   "cell_type": "code",
   "execution_count": 25,
   "id": "a5bc5e83-1ae5-49c2-9a86-f1196846255d",
   "metadata": {},
   "outputs": [],
   "source": [
    "pop_souNutrie_en_2017 = (sousNutrition[pop_souNutrie_en_2017][\"Valeur\"]* 1000000). sum()"
   ]
  },
  {
   "cell_type": "code",
   "execution_count": 26,
   "id": "58ac65ee-31e7-42cf-bef5-4f678f978dfa",
   "metadata": {},
   "outputs": [
    {
     "data": {
      "text/plain": [
       "536700000.0"
      ]
     },
     "execution_count": 26,
     "metadata": {},
     "output_type": "execute_result"
    }
   ],
   "source": [
    "pop_souNutrie_en_2017"
   ]
  },
  {
   "cell_type": "code",
   "execution_count": 27,
   "id": "28fc2769-83f0-4e00-a16f-5d74a09f46e7",
   "metadata": {},
   "outputs": [
    {
     "name": "stdout",
     "output_type": "stream",
     "text": [
      "Lapopulation en état de sous nutrition en 2017 est de 536700000.0\n"
     ]
    }
   ],
   "source": [
    "print(\"Lapopulation en état de sous nutrition en 2017 est de\", pop_souNutrie_en_2017)"
   ]
  },
  {
   "cell_type": "code",
   "execution_count": 28,
   "id": "ace1f4ed-f3f4-4b76-962e-75bec9bbcb02",
   "metadata": {},
   "outputs": [],
   "source": [
    "propo_pers_souNutrie_2017 = pop_souNutrie_en_2017/population_mondiale_2017* 100"
   ]
  },
  {
   "cell_type": "code",
   "execution_count": 29,
   "id": "c925d502-672e-45c6-b24e-fde3bede3708",
   "metadata": {},
   "outputs": [
    {
     "name": "stdout",
     "output_type": "stream",
     "text": [
      "La proportion des personnes en état de sous nutrition en 2017 est de 7.11036651055073\n"
     ]
    }
   ],
   "source": [
    "print(\"La proportion des personnes en état de sous nutrition en 2017 est de\", propo_pers_souNutrie_2017)"
   ]
  },
  {
   "cell_type": "markdown",
   "id": "69b84646-9910-4e2b-beea-288262a4b9b5",
   "metadata": {},
   "source": [
    "***Le nombre théorique de personnes qui pourraient être nourries***"
   ]
  },
  {
   "cell_type": "code",
   "execution_count": 30,
   "id": "b4ece0c5-3277-4b21-b284-6d2a32ba7245",
   "metadata": {},
   "outputs": [
    {
     "name": "stdout",
     "output_type": "stream",
     "text": [
      "<class 'pandas.core.frame.DataFrame'>\n",
      "RangeIndex: 15605 entries, 0 to 15604\n",
      "Data columns (total 18 columns):\n",
      " #   Column                                                         Non-Null Count  Dtype  \n",
      "---  ------                                                         --------------  -----  \n",
      " 0   Zone                                                           15605 non-null  object \n",
      " 1   Produit                                                        15605 non-null  object \n",
      " 2   Origine                                                        15605 non-null  object \n",
      " 3   Aliments pour animaux                                          2720 non-null   float64\n",
      " 4   Autres Utilisations                                            5496 non-null   float64\n",
      " 5   Disponibilité alimentaire (Kcal/personne/jour)                 14241 non-null  float64\n",
      " 6   Disponibilité alimentaire en quantité (kg/personne/an)         14015 non-null  float64\n",
      " 7   Disponibilité de matière grasse en quantité (g/personne/jour)  11794 non-null  float64\n",
      " 8   Disponibilité de protéines en quantité (g/personne/jour)       11561 non-null  float64\n",
      " 9   Disponibilité intérieure                                       15382 non-null  float64\n",
      " 10  Exportations - Quantité                                        12226 non-null  float64\n",
      " 11  Importations - Quantité                                        14852 non-null  float64\n",
      " 12  Nourriture                                                     14015 non-null  float64\n",
      " 13  Pertes                                                         4278 non-null   float64\n",
      " 14  Production                                                     9180 non-null   float64\n",
      " 15  Semences                                                       2091 non-null   float64\n",
      " 16  Traitement                                                     2292 non-null   float64\n",
      " 17  Variation de stock                                             6776 non-null   float64\n",
      "dtypes: float64(15), object(3)\n",
      "memory usage: 2.1+ MB\n"
     ]
    }
   ],
   "source": [
    "dispoAlimentaire.info()"
   ]
  },
  {
   "cell_type": "code",
   "execution_count": 31,
   "id": "1e598cce-61c7-42ba-8ca3-06e2cd8b085f",
   "metadata": {},
   "outputs": [],
   "source": [
    "calorie_personne = 2500 "
   ]
  },
  {
   "cell_type": "code",
   "execution_count": 32,
   "id": "70e4fad7-95b0-44a7-8e9e-31eaac16b65b",
   "metadata": {},
   "outputs": [
    {
     "data": {
      "text/html": [
       "<div>\n",
       "<style scoped>\n",
       "    .dataframe tbody tr th:only-of-type {\n",
       "        vertical-align: middle;\n",
       "    }\n",
       "\n",
       "    .dataframe tbody tr th {\n",
       "        vertical-align: top;\n",
       "    }\n",
       "\n",
       "    .dataframe thead th {\n",
       "        text-align: right;\n",
       "    }\n",
       "</style>\n",
       "<table border=\"1\" class=\"dataframe\">\n",
       "  <thead>\n",
       "    <tr style=\"text-align: right;\">\n",
       "      <th></th>\n",
       "      <th>Zone</th>\n",
       "      <th>Année</th>\n",
       "      <th>Valeur</th>\n",
       "    </tr>\n",
       "  </thead>\n",
       "  <tbody>\n",
       "    <tr>\n",
       "      <th>4</th>\n",
       "      <td>Afghanistan</td>\n",
       "      <td>2017</td>\n",
       "      <td>36296.113</td>\n",
       "    </tr>\n",
       "    <tr>\n",
       "      <th>10</th>\n",
       "      <td>Afrique du Sud</td>\n",
       "      <td>2017</td>\n",
       "      <td>57009.756</td>\n",
       "    </tr>\n",
       "    <tr>\n",
       "      <th>16</th>\n",
       "      <td>Albanie</td>\n",
       "      <td>2017</td>\n",
       "      <td>2884.169</td>\n",
       "    </tr>\n",
       "    <tr>\n",
       "      <th>22</th>\n",
       "      <td>Algérie</td>\n",
       "      <td>2017</td>\n",
       "      <td>41389.189</td>\n",
       "    </tr>\n",
       "    <tr>\n",
       "      <th>28</th>\n",
       "      <td>Allemagne</td>\n",
       "      <td>2017</td>\n",
       "      <td>82658.409</td>\n",
       "    </tr>\n",
       "    <tr>\n",
       "      <th>...</th>\n",
       "      <td>...</td>\n",
       "      <td>...</td>\n",
       "      <td>...</td>\n",
       "    </tr>\n",
       "    <tr>\n",
       "      <th>1390</th>\n",
       "      <td>Venezuela (République bolivarienne du)</td>\n",
       "      <td>2017</td>\n",
       "      <td>29402.484</td>\n",
       "    </tr>\n",
       "    <tr>\n",
       "      <th>1396</th>\n",
       "      <td>Viet Nam</td>\n",
       "      <td>2017</td>\n",
       "      <td>94600.648</td>\n",
       "    </tr>\n",
       "    <tr>\n",
       "      <th>1402</th>\n",
       "      <td>Yémen</td>\n",
       "      <td>2017</td>\n",
       "      <td>27834.819</td>\n",
       "    </tr>\n",
       "    <tr>\n",
       "      <th>1408</th>\n",
       "      <td>Zambie</td>\n",
       "      <td>2017</td>\n",
       "      <td>16853.599</td>\n",
       "    </tr>\n",
       "    <tr>\n",
       "      <th>1414</th>\n",
       "      <td>Zimbabwe</td>\n",
       "      <td>2017</td>\n",
       "      <td>14236.595</td>\n",
       "    </tr>\n",
       "  </tbody>\n",
       "</table>\n",
       "<p>236 rows × 3 columns</p>\n",
       "</div>"
      ],
      "text/plain": [
       "                                        Zone  Année     Valeur\n",
       "4                                Afghanistan   2017  36296.113\n",
       "10                            Afrique du Sud   2017  57009.756\n",
       "16                                   Albanie   2017   2884.169\n",
       "22                                   Algérie   2017  41389.189\n",
       "28                                 Allemagne   2017  82658.409\n",
       "...                                      ...    ...        ...\n",
       "1390  Venezuela (République bolivarienne du)   2017  29402.484\n",
       "1396                                Viet Nam   2017  94600.648\n",
       "1402                                   Yémen   2017  27834.819\n",
       "1408                                  Zambie   2017  16853.599\n",
       "1414                                Zimbabwe   2017  14236.595\n",
       "\n",
       "[236 rows x 3 columns]"
      ]
     },
     "execution_count": 32,
     "metadata": {},
     "output_type": "execute_result"
    }
   ],
   "source": [
    "population[population[\"Année\"] == 2017]"
   ]
  },
  {
   "cell_type": "code",
   "execution_count": 33,
   "id": "02479483-e998-4808-a3da-a48431613141",
   "metadata": {},
   "outputs": [],
   "source": [
    "merge_dispoAli_pop = pd.merge(dispoAlimentaire, population[population[\"Année\"] == 2017], on = \"Zone\")"
   ]
  },
  {
   "cell_type": "code",
   "execution_count": 34,
   "id": "0e443c17-4501-43a8-98f4-644d0927b24e",
   "metadata": {},
   "outputs": [],
   "source": [
    "merge_dispoAli_pop[\"Disponibilité alimentaire (Kcal/jour)\"] = merge_dispoAli_pop[\"Valeur\"] * 1000 * merge_dispoAli_pop[\"Disponibilité alimentaire (Kcal/personne/jour)\"]"
   ]
  },
  {
   "cell_type": "code",
   "execution_count": 35,
   "id": "36689d86-c71d-4061-8f05-805edfed92cd",
   "metadata": {},
   "outputs": [],
   "source": [
    "Disponibilit_alimentaire_Kcal_jour = (merge_dispoAli_pop[\"Disponibilité alimentaire (Kcal/jour)\"]).sum()"
   ]
  },
  {
   "cell_type": "code",
   "execution_count": 36,
   "id": "228bce65-9d29-494a-b30d-8b6ba4cd0490",
   "metadata": {},
   "outputs": [
    {
     "data": {
      "text/plain": [
       "20918984627331.0"
      ]
     },
     "execution_count": 36,
     "metadata": {},
     "output_type": "execute_result"
    }
   ],
   "source": [
    "Disponibilit_alimentaire_Kcal_jour"
   ]
  },
  {
   "cell_type": "code",
   "execution_count": 37,
   "id": "e85e8877-0a6b-48be-9c30-e5d8e388a762",
   "metadata": {},
   "outputs": [],
   "source": [
    "nombreTheori_nouri = Disponibilit_alimentaire_Kcal_jour/2500"
   ]
  },
  {
   "cell_type": "code",
   "execution_count": 38,
   "id": "654b6aa5-e4ea-4866-a6f9-b08ee0f1a451",
   "metadata": {},
   "outputs": [
    {
     "name": "stdout",
     "output_type": "stream",
     "text": [
      "Le nombre théorique de personne qui pourrait être nourrie est de 8367593850.9324\n"
     ]
    }
   ],
   "source": [
    "print(\"Le nombre théorique de personne qui pourrait être nourrie est de\", nombreTheori_nouri)"
   ]
  },
  {
   "cell_type": "markdown",
   "id": "11a3d250-48da-410c-ab1f-c631d5e09bb7",
   "metadata": {},
   "source": [
    "***Le nombre théorique de personnes qui pourraient être nourries par les produits végétaux***"
   ]
  },
  {
   "cell_type": "code",
   "execution_count": 39,
   "id": "18bf48ea-ca46-4de2-881b-aacfe09bf041",
   "metadata": {},
   "outputs": [],
   "source": [
    "#je filtre sur les produits vegetaux\n",
    "dispoAlimentaire_vegetale = dispoAlimentaire[dispoAlimentaire['Origine'] == 'vegetale']"
   ]
  },
  {
   "cell_type": "code",
   "execution_count": 40,
   "id": "075b5449-42ac-4fc5-858a-60c8a9815208",
   "metadata": {},
   "outputs": [],
   "source": [
    "merge_dispoAli_pop_vegetale = pd.merge(dispoAlimentaire[dispoAlimentaire['Origine'] == 'vegetale'], population[population[\"Année\"] == 2017], on = \"Zone\")"
   ]
  },
  {
   "cell_type": "code",
   "execution_count": 41,
   "id": "5ae9d0a5-dd0a-47cc-90d3-13a6f17e0181",
   "metadata": {},
   "outputs": [],
   "source": [
    "#je crée une nouvelle colonne Disponibilité vegetale (Kcal/jour)\n",
    "\n",
    "merge_dispoAli_pop_vegetale[\"Disponibilité vegetale (Kcal/jour)\"] = merge_dispoAli_pop_vegetale[\"Valeur\"] * 1000 * merge_dispoAli_pop_vegetale[\"Disponibilité alimentaire (Kcal/personne/jour)\"]    "
   ]
  },
  {
   "cell_type": "code",
   "execution_count": 42,
   "id": "bd79dd05-61b8-435a-8a4b-8bf1e382a1f1",
   "metadata": {},
   "outputs": [],
   "source": [
    "nbre_theorique_pers_nourrie_vegetale = (merge_dispoAli_pop_vegetale[\"Disponibilité vegetale (Kcal/jour)\"].sum())/2500"
   ]
  },
  {
   "cell_type": "code",
   "execution_count": 43,
   "id": "eef2dad7-925a-4112-b044-3b7ee94b81bb",
   "metadata": {},
   "outputs": [
    {
     "name": "stdout",
     "output_type": "stream",
     "text": [
      "Le nombre théorique de personnes qui pourraient être nourries par les produits végétaux est de  6904305684.6004\n"
     ]
    }
   ],
   "source": [
    "print(\"Le nombre théorique de personnes qui pourraient être nourries par les produits végétaux est de \", nbre_theorique_pers_nourrie_vegetale)"
   ]
  },
  {
   "cell_type": "markdown",
   "id": "e66407ad-5e67-4669-8478-03a9493b28cd",
   "metadata": {},
   "source": [
    "***l’utilisation de la disponibilité intérieure, en particulier la part qui est attribuée à l’alimentation animale, celle qui est perdue et celle qui est concrètement utilisée pour l'alimentation humaine***"
   ]
  },
  {
   "cell_type": "code",
   "execution_count": 44,
   "id": "bba280a9-5f52-4b51-ac10-3fa5ac33c084",
   "metadata": {},
   "outputs": [],
   "source": [
    "# on calcul la disponibilité intérieur\n",
    "\n",
    "dispo_interieur = dispoAlimentaire[\"Disponibilité intérieure\"]. sum()"
   ]
  },
  {
   "cell_type": "code",
   "execution_count": 45,
   "id": "f2e98d05-0ba0-4ea7-91ee-cd824e60c948",
   "metadata": {},
   "outputs": [
    {
     "name": "stdout",
     "output_type": "stream",
     "text": [
      "La disponibilite interieur est de 9848994.0\n"
     ]
    }
   ],
   "source": [
    "print(\"La disponibilite interieur est de\", dispo_interieur)"
   ]
  },
  {
   "cell_type": "code",
   "execution_count": 46,
   "id": "81fa6901-6cff-41ec-a9cf-af2b7188845f",
   "metadata": {},
   "outputs": [],
   "source": [
    "alimentation_animal = dispoAlimentaire[\"Aliments pour animaux\"]. sum()"
   ]
  },
  {
   "cell_type": "code",
   "execution_count": 47,
   "id": "bd8bf6aa-f1c2-4c7e-9219-aab3a47d6f61",
   "metadata": {},
   "outputs": [
    {
     "name": "stdout",
     "output_type": "stream",
     "text": [
      "L'alimentation animal s'élève à 1304245.0\n"
     ]
    }
   ],
   "source": [
    "print(\"L'alimentation animal s'élève à\", alimentation_animal)"
   ]
  },
  {
   "cell_type": "code",
   "execution_count": 48,
   "id": "4dea152d-9613-44fd-ac23-1cc034f986f7",
   "metadata": {},
   "outputs": [],
   "source": [
    "part_alimentation_animal =( alimentation_animal/dispo_interieur)*100"
   ]
  },
  {
   "cell_type": "code",
   "execution_count": 49,
   "id": "344bd61f-5dc6-4508-a1c2-83202315e2d2",
   "metadata": {},
   "outputs": [
    {
     "name": "stdout",
     "output_type": "stream",
     "text": [
      "La part de l'alimentation animal est de 13.242418464261426\n"
     ]
    }
   ],
   "source": [
    "print(\"La part de l'alimentation animal est de\", part_alimentation_animal)"
   ]
  },
  {
   "cell_type": "code",
   "execution_count": 50,
   "id": "bd091bc1-d060-4833-9da0-6f1ef4c90c90",
   "metadata": {},
   "outputs": [],
   "source": [
    "#On calcul les pertes\n",
    "pertes = dispoAlimentaire[\"Pertes\"]. sum()"
   ]
  },
  {
   "cell_type": "code",
   "execution_count": 51,
   "id": "75cd15c5-ea29-4f1f-ac93-43da721a0ba8",
   "metadata": {},
   "outputs": [
    {
     "name": "stdout",
     "output_type": "stream",
     "text": [
      "Les pertes s'élèvesnt à 453698.0\n"
     ]
    }
   ],
   "source": [
    "print(\"Les pertes s'élèvesnt à\",pertes)"
   ]
  },
  {
   "cell_type": "code",
   "execution_count": 52,
   "id": "2009c644-5c73-4a94-b917-831d4b77ee5a",
   "metadata": {},
   "outputs": [],
   "source": [
    "part_pertes = (pertes/dispo_interieur)* 100"
   ]
  },
  {
   "cell_type": "code",
   "execution_count": 53,
   "id": "0bf38918-0d02-424c-a398-9cbd9e04f00d",
   "metadata": {},
   "outputs": [
    {
     "name": "stdout",
     "output_type": "stream",
     "text": [
      "La part des pertes s'élève à 4.606541541196999\n"
     ]
    }
   ],
   "source": [
    "print(\"La part des pertes s'élève à\", part_pertes)"
   ]
  },
  {
   "cell_type": "code",
   "execution_count": 54,
   "id": "6b58b745-3b42-4afa-9870-a92a9625f5d6",
   "metadata": {},
   "outputs": [],
   "source": [
    "#on calcul l'alimentation humaine\n",
    "alimentation_humaine = dispoAlimentaire[\"Nourriture\"]. sum()"
   ]
  },
  {
   "cell_type": "code",
   "execution_count": 55,
   "id": "d485cacd-6ec0-4124-a5ca-1c81ffd623d0",
   "metadata": {},
   "outputs": [
    {
     "name": "stdout",
     "output_type": "stream",
     "text": [
      "L'alimentation humaine est de 4876258.0\n"
     ]
    }
   ],
   "source": [
    "print(\"L'alimentation humaine est de\", alimentation_humaine )"
   ]
  },
  {
   "cell_type": "code",
   "execution_count": 56,
   "id": "20ffc224-b4b0-4524-87c8-65878b1d5b8c",
   "metadata": {},
   "outputs": [],
   "source": [
    "part_alimentation_humaine =(alimentation_humaine/dispo_interieur) * 100"
   ]
  },
  {
   "cell_type": "code",
   "execution_count": 57,
   "id": "69eb7c29-be1f-4cc7-a2f2-2a8f995ae1ba",
   "metadata": {},
   "outputs": [
    {
     "name": "stdout",
     "output_type": "stream",
     "text": [
      "La part réservée à l'alimentation humaine est de 49.51021393657058\n"
     ]
    }
   ],
   "source": [
    "print(\"La part réservée à l'alimentation humaine est de\", part_alimentation_humaine)\n"
   ]
  },
  {
   "cell_type": "code",
   "execution_count": 58,
   "id": "fbb3d3d5-83c9-4094-b92c-b2fd10f597c8",
   "metadata": {},
   "outputs": [
    {
     "data": {
      "image/png": "[encoded data removed]",
      "text/plain": [
       "<Figure size 432x288 with 1 Axes>"
      ]
     },
     "metadata": {},
     "output_type": "display_data"
    }
   ],
   "source": [
    "import matplotlib.pyplot as plt\n",
    "import numpy as np\n",
    "categorie = 'Part Humaine', 'Part Animal', 'Pertes'\n",
    "pourcentage = [49.5,13.24 , 04.6]\n",
    " \n",
    "plt.pie(pourcentage,labels= categorie)\n",
    "plt.legend()\n",
    "plt.show() "
   ]
  },
  {
   "cell_type": "code",
   "execution_count": null,
   "id": "2e02a507-d04a-4e94-a0b6-d19da67ad402",
   "metadata": {},
   "outputs": [],
   "source": []
  },
  {
   "cell_type": "code",
   "execution_count": null,
   "id": "662959ed-1acd-4029-9857-64085537cdc9",
   "metadata": {},
   "outputs": [],
   "source": []
  },
  {
   "cell_type": "code",
   "execution_count": null,
   "id": "93ab99ce-a95e-44e1-b9ec-b96a9cf654c7",
   "metadata": {},
   "outputs": [],
   "source": []
  },
  {
   "cell_type": "code",
   "execution_count": null,
   "id": "f1a75108-fa94-49b3-871e-d37b7c030c6c",
   "metadata": {},
   "outputs": [],
   "source": []
  },
  {
   "cell_type": "markdown",
   "id": "c34f9986-5e2a-4492-8bbc-423cb7f1601b",
   "metadata": {},
   "source": [
    "***L'utilisation des céréales***"
   ]
  },
  {
   "cell_type": "code",
   "execution_count": 59,
   "id": "1960ef7c-8633-4b7c-a5e8-b80f092a5d91",
   "metadata": {},
   "outputs": [],
   "source": [
    "dispo_alim_cereale = dispoAlimentaire[\"Produit\"].isin ((\"Avoine\", \"Blé\", \" Céréales, Autres\", \"Mais\", \"Millet\", \"Orge\", \"Riz(Eq Blanchi)\", \"Seigle\", \"Sorgho\"))"
   ]
  },
  {
   "cell_type": "code",
   "execution_count": 60,
   "id": "bbb709bc-983a-4f19-9df4-6a208cb2e164",
   "metadata": {},
   "outputs": [],
   "source": [
    "merge_dispoAli_pop_cereale = pd.merge(dispoAlimentaire[dispo_alim_cereale], population[population[\"Année\"] == 2017], on = \"Zone\")"
   ]
  },
  {
   "cell_type": "code",
   "execution_count": 61,
   "id": "eeeb7b0d-b6f8-44db-bd25-f51cdc8d3c76",
   "metadata": {},
   "outputs": [
    {
     "data": {
      "text/html": [
       "<div>\n",
       "<style scoped>\n",
       "    .dataframe tbody tr th:only-of-type {\n",
       "        vertical-align: middle;\n",
       "    }\n",
       "\n",
       "    .dataframe tbody tr th {\n",
       "        vertical-align: top;\n",
       "    }\n",
       "\n",
       "    .dataframe thead th {\n",
       "        text-align: right;\n",
       "    }\n",
       "</style>\n",
       "<table border=\"1\" class=\"dataframe\">\n",
       "  <thead>\n",
       "    <tr style=\"text-align: right;\">\n",
       "      <th></th>\n",
       "      <th>Zone</th>\n",
       "      <th>Produit</th>\n",
       "      <th>Origine</th>\n",
       "      <th>Aliments pour animaux</th>\n",
       "      <th>Autres Utilisations</th>\n",
       "      <th>Disponibilité alimentaire (Kcal/personne/jour)</th>\n",
       "      <th>Disponibilité alimentaire en quantité (kg/personne/an)</th>\n",
       "      <th>Disponibilité de matière grasse en quantité (g/personne/jour)</th>\n",
       "      <th>Disponibilité de protéines en quantité (g/personne/jour)</th>\n",
       "      <th>Disponibilité intérieure</th>\n",
       "      <th>...</th>\n",
       "      <th>Importations - Quantité</th>\n",
       "      <th>Nourriture</th>\n",
       "      <th>Pertes</th>\n",
       "      <th>Production</th>\n",
       "      <th>Semences</th>\n",
       "      <th>Traitement</th>\n",
       "      <th>Variation de stock</th>\n",
       "      <th>Année</th>\n",
       "      <th>Valeur</th>\n",
       "      <th>Quantite_du_Cereale</th>\n",
       "    </tr>\n",
       "  </thead>\n",
       "  <tbody>\n",
       "    <tr>\n",
       "      <th>0</th>\n",
       "      <td>Afghanistan</td>\n",
       "      <td>Blé</td>\n",
       "      <td>vegetale</td>\n",
       "      <td>NaN</td>\n",
       "      <td>NaN</td>\n",
       "      <td>1369.0</td>\n",
       "      <td>160.23</td>\n",
       "      <td>4.69</td>\n",
       "      <td>36.91</td>\n",
       "      <td>5992.0</td>\n",
       "      <td>...</td>\n",
       "      <td>1173.0</td>\n",
       "      <td>4895.0</td>\n",
       "      <td>775.0</td>\n",
       "      <td>5169.0</td>\n",
       "      <td>322.0</td>\n",
       "      <td>NaN</td>\n",
       "      <td>-350.0</td>\n",
       "      <td>2017</td>\n",
       "      <td>36296.113</td>\n",
       "      <td>5539.0</td>\n",
       "    </tr>\n",
       "    <tr>\n",
       "      <th>1</th>\n",
       "      <td>Afghanistan</td>\n",
       "      <td>Millet</td>\n",
       "      <td>vegetale</td>\n",
       "      <td>NaN</td>\n",
       "      <td>NaN</td>\n",
       "      <td>3.0</td>\n",
       "      <td>0.40</td>\n",
       "      <td>0.02</td>\n",
       "      <td>0.08</td>\n",
       "      <td>13.0</td>\n",
       "      <td>...</td>\n",
       "      <td>NaN</td>\n",
       "      <td>12.0</td>\n",
       "      <td>1.0</td>\n",
       "      <td>13.0</td>\n",
       "      <td>0.0</td>\n",
       "      <td>NaN</td>\n",
       "      <td>NaN</td>\n",
       "      <td>2017</td>\n",
       "      <td>36296.113</td>\n",
       "      <td>NaN</td>\n",
       "    </tr>\n",
       "    <tr>\n",
       "      <th>2</th>\n",
       "      <td>Afghanistan</td>\n",
       "      <td>Orge</td>\n",
       "      <td>vegetale</td>\n",
       "      <td>360.0</td>\n",
       "      <td>NaN</td>\n",
       "      <td>26.0</td>\n",
       "      <td>2.92</td>\n",
       "      <td>0.24</td>\n",
       "      <td>0.79</td>\n",
       "      <td>524.0</td>\n",
       "      <td>...</td>\n",
       "      <td>10.0</td>\n",
       "      <td>89.0</td>\n",
       "      <td>52.0</td>\n",
       "      <td>514.0</td>\n",
       "      <td>22.0</td>\n",
       "      <td>NaN</td>\n",
       "      <td>0.0</td>\n",
       "      <td>2017</td>\n",
       "      <td>36296.113</td>\n",
       "      <td>494.0</td>\n",
       "    </tr>\n",
       "    <tr>\n",
       "      <th>3</th>\n",
       "      <td>Afrique du Sud</td>\n",
       "      <td>Avoine</td>\n",
       "      <td>vegetale</td>\n",
       "      <td>8.0</td>\n",
       "      <td>NaN</td>\n",
       "      <td>5.0</td>\n",
       "      <td>0.75</td>\n",
       "      <td>0.09</td>\n",
       "      <td>0.16</td>\n",
       "      <td>49.0</td>\n",
       "      <td>...</td>\n",
       "      <td>25.0</td>\n",
       "      <td>40.0</td>\n",
       "      <td>1.0</td>\n",
       "      <td>28.0</td>\n",
       "      <td>1.0</td>\n",
       "      <td>NaN</td>\n",
       "      <td>0.0</td>\n",
       "      <td>2017</td>\n",
       "      <td>57009.756</td>\n",
       "      <td>53.0</td>\n",
       "    </tr>\n",
       "    <tr>\n",
       "      <th>4</th>\n",
       "      <td>Afrique du Sud</td>\n",
       "      <td>Blé</td>\n",
       "      <td>vegetale</td>\n",
       "      <td>37.0</td>\n",
       "      <td>NaN</td>\n",
       "      <td>492.0</td>\n",
       "      <td>60.13</td>\n",
       "      <td>2.09</td>\n",
       "      <td>15.40</td>\n",
       "      <td>3316.0</td>\n",
       "      <td>...</td>\n",
       "      <td>1490.0</td>\n",
       "      <td>3174.0</td>\n",
       "      <td>74.0</td>\n",
       "      <td>1870.0</td>\n",
       "      <td>31.0</td>\n",
       "      <td>0.0</td>\n",
       "      <td>450.0</td>\n",
       "      <td>2017</td>\n",
       "      <td>57009.756</td>\n",
       "      <td>3767.0</td>\n",
       "    </tr>\n",
       "    <tr>\n",
       "      <th>...</th>\n",
       "      <td>...</td>\n",
       "      <td>...</td>\n",
       "      <td>...</td>\n",
       "      <td>...</td>\n",
       "      <td>...</td>\n",
       "      <td>...</td>\n",
       "      <td>...</td>\n",
       "      <td>...</td>\n",
       "      <td>...</td>\n",
       "      <td>...</td>\n",
       "      <td>...</td>\n",
       "      <td>...</td>\n",
       "      <td>...</td>\n",
       "      <td>...</td>\n",
       "      <td>...</td>\n",
       "      <td>...</td>\n",
       "      <td>...</td>\n",
       "      <td>...</td>\n",
       "      <td>...</td>\n",
       "      <td>...</td>\n",
       "      <td>...</td>\n",
       "    </tr>\n",
       "    <tr>\n",
       "      <th>960</th>\n",
       "      <td>Éthiopie</td>\n",
       "      <td>Seigle</td>\n",
       "      <td>vegetale</td>\n",
       "      <td>NaN</td>\n",
       "      <td>NaN</td>\n",
       "      <td>0.0</td>\n",
       "      <td>0.00</td>\n",
       "      <td>0.00</td>\n",
       "      <td>0.00</td>\n",
       "      <td>0.0</td>\n",
       "      <td>...</td>\n",
       "      <td>0.0</td>\n",
       "      <td>0.0</td>\n",
       "      <td>NaN</td>\n",
       "      <td>NaN</td>\n",
       "      <td>NaN</td>\n",
       "      <td>NaN</td>\n",
       "      <td>NaN</td>\n",
       "      <td>2017</td>\n",
       "      <td>106399.924</td>\n",
       "      <td>NaN</td>\n",
       "    </tr>\n",
       "    <tr>\n",
       "      <th>961</th>\n",
       "      <td>Éthiopie</td>\n",
       "      <td>Sorgho</td>\n",
       "      <td>vegetale</td>\n",
       "      <td>NaN</td>\n",
       "      <td>1500.0</td>\n",
       "      <td>216.0</td>\n",
       "      <td>25.51</td>\n",
       "      <td>2.08</td>\n",
       "      <td>6.35</td>\n",
       "      <td>4156.0</td>\n",
       "      <td>...</td>\n",
       "      <td>30.0</td>\n",
       "      <td>2401.0</td>\n",
       "      <td>218.0</td>\n",
       "      <td>4338.0</td>\n",
       "      <td>37.0</td>\n",
       "      <td>NaN</td>\n",
       "      <td>-200.0</td>\n",
       "      <td>2017</td>\n",
       "      <td>106399.924</td>\n",
       "      <td>3987.0</td>\n",
       "    </tr>\n",
       "    <tr>\n",
       "      <th>962</th>\n",
       "      <td>Îles Salomon</td>\n",
       "      <td>Blé</td>\n",
       "      <td>vegetale</td>\n",
       "      <td>NaN</td>\n",
       "      <td>NaN</td>\n",
       "      <td>184.0</td>\n",
       "      <td>25.37</td>\n",
       "      <td>1.00</td>\n",
       "      <td>5.19</td>\n",
       "      <td>14.0</td>\n",
       "      <td>...</td>\n",
       "      <td>14.0</td>\n",
       "      <td>14.0</td>\n",
       "      <td>NaN</td>\n",
       "      <td>NaN</td>\n",
       "      <td>NaN</td>\n",
       "      <td>NaN</td>\n",
       "      <td>0.0</td>\n",
       "      <td>2017</td>\n",
       "      <td>636.039</td>\n",
       "      <td>NaN</td>\n",
       "    </tr>\n",
       "    <tr>\n",
       "      <th>963</th>\n",
       "      <td>Îles Salomon</td>\n",
       "      <td>Orge</td>\n",
       "      <td>vegetale</td>\n",
       "      <td>NaN</td>\n",
       "      <td>NaN</td>\n",
       "      <td>0.0</td>\n",
       "      <td>0.07</td>\n",
       "      <td>NaN</td>\n",
       "      <td>0.01</td>\n",
       "      <td>1.0</td>\n",
       "      <td>...</td>\n",
       "      <td>1.0</td>\n",
       "      <td>0.0</td>\n",
       "      <td>NaN</td>\n",
       "      <td>NaN</td>\n",
       "      <td>NaN</td>\n",
       "      <td>1.0</td>\n",
       "      <td>NaN</td>\n",
       "      <td>2017</td>\n",
       "      <td>636.039</td>\n",
       "      <td>NaN</td>\n",
       "    </tr>\n",
       "    <tr>\n",
       "      <th>964</th>\n",
       "      <td>Îles Salomon</td>\n",
       "      <td>Sorgho</td>\n",
       "      <td>vegetale</td>\n",
       "      <td>0.0</td>\n",
       "      <td>NaN</td>\n",
       "      <td>NaN</td>\n",
       "      <td>NaN</td>\n",
       "      <td>NaN</td>\n",
       "      <td>NaN</td>\n",
       "      <td>0.0</td>\n",
       "      <td>...</td>\n",
       "      <td>0.0</td>\n",
       "      <td>NaN</td>\n",
       "      <td>NaN</td>\n",
       "      <td>NaN</td>\n",
       "      <td>NaN</td>\n",
       "      <td>NaN</td>\n",
       "      <td>NaN</td>\n",
       "      <td>2017</td>\n",
       "      <td>636.039</td>\n",
       "      <td>NaN</td>\n",
       "    </tr>\n",
       "  </tbody>\n",
       "</table>\n",
       "<p>965 rows × 21 columns</p>\n",
       "</div>"
      ],
      "text/plain": [
       "               Zone Produit   Origine  Aliments pour animaux  \\\n",
       "0       Afghanistan     Blé  vegetale                    NaN   \n",
       "1       Afghanistan  Millet  vegetale                    NaN   \n",
       "2       Afghanistan    Orge  vegetale                  360.0   \n",
       "3    Afrique du Sud  Avoine  vegetale                    8.0   \n",
       "4    Afrique du Sud     Blé  vegetale                   37.0   \n",
       "..              ...     ...       ...                    ...   \n",
       "960        Éthiopie  Seigle  vegetale                    NaN   \n",
       "961        Éthiopie  Sorgho  vegetale                    NaN   \n",
       "962    Îles Salomon     Blé  vegetale                    NaN   \n",
       "963    Îles Salomon    Orge  vegetale                    NaN   \n",
       "964    Îles Salomon  Sorgho  vegetale                    0.0   \n",
       "\n",
       "     Autres Utilisations  Disponibilité alimentaire (Kcal/personne/jour)  \\\n",
       "0                    NaN                                          1369.0   \n",
       "1                    NaN                                             3.0   \n",
       "2                    NaN                                            26.0   \n",
       "3                    NaN                                             5.0   \n",
       "4                    NaN                                           492.0   \n",
       "..                   ...                                             ...   \n",
       "960                  NaN                                             0.0   \n",
       "961               1500.0                                           216.0   \n",
       "962                  NaN                                           184.0   \n",
       "963                  NaN                                             0.0   \n",
       "964                  NaN                                             NaN   \n",
       "\n",
       "     Disponibilité alimentaire en quantité (kg/personne/an)  \\\n",
       "0                                               160.23        \n",
       "1                                                 0.40        \n",
       "2                                                 2.92        \n",
       "3                                                 0.75        \n",
       "4                                                60.13        \n",
       "..                                                 ...        \n",
       "960                                               0.00        \n",
       "961                                              25.51        \n",
       "962                                              25.37        \n",
       "963                                               0.07        \n",
       "964                                                NaN        \n",
       "\n",
       "     Disponibilité de matière grasse en quantité (g/personne/jour)  \\\n",
       "0                                                 4.69               \n",
       "1                                                 0.02               \n",
       "2                                                 0.24               \n",
       "3                                                 0.09               \n",
       "4                                                 2.09               \n",
       "..                                                 ...               \n",
       "960                                               0.00               \n",
       "961                                               2.08               \n",
       "962                                               1.00               \n",
       "963                                                NaN               \n",
       "964                                                NaN               \n",
       "\n",
       "     Disponibilité de protéines en quantité (g/personne/jour)  \\\n",
       "0                                                36.91          \n",
       "1                                                 0.08          \n",
       "2                                                 0.79          \n",
       "3                                                 0.16          \n",
       "4                                                15.40          \n",
       "..                                                 ...          \n",
       "960                                               0.00          \n",
       "961                                               6.35          \n",
       "962                                               5.19          \n",
       "963                                               0.01          \n",
       "964                                                NaN          \n",
       "\n",
       "     Disponibilité intérieure  ...  Importations - Quantité  Nourriture  \\\n",
       "0                      5992.0  ...                   1173.0      4895.0   \n",
       "1                        13.0  ...                      NaN        12.0   \n",
       "2                       524.0  ...                     10.0        89.0   \n",
       "3                        49.0  ...                     25.0        40.0   \n",
       "4                      3316.0  ...                   1490.0      3174.0   \n",
       "..                        ...  ...                      ...         ...   \n",
       "960                       0.0  ...                      0.0         0.0   \n",
       "961                    4156.0  ...                     30.0      2401.0   \n",
       "962                      14.0  ...                     14.0        14.0   \n",
       "963                       1.0  ...                      1.0         0.0   \n",
       "964                       0.0  ...                      0.0         NaN   \n",
       "\n",
       "     Pertes  Production  Semences  Traitement  Variation de stock  Année  \\\n",
       "0     775.0      5169.0     322.0         NaN              -350.0   2017   \n",
       "1       1.0        13.0       0.0         NaN                 NaN   2017   \n",
       "2      52.0       514.0      22.0         NaN                 0.0   2017   \n",
       "3       1.0        28.0       1.0         NaN                 0.0   2017   \n",
       "4      74.0      1870.0      31.0         0.0               450.0   2017   \n",
       "..      ...         ...       ...         ...                 ...    ...   \n",
       "960     NaN         NaN       NaN         NaN                 NaN   2017   \n",
       "961   218.0      4338.0      37.0         NaN              -200.0   2017   \n",
       "962     NaN         NaN       NaN         NaN                 0.0   2017   \n",
       "963     NaN         NaN       NaN         1.0                 NaN   2017   \n",
       "964     NaN         NaN       NaN         NaN                 NaN   2017   \n",
       "\n",
       "         Valeur  Quantite_du_Cereale  \n",
       "0     36296.113               5539.0  \n",
       "1     36296.113                  NaN  \n",
       "2     36296.113                494.0  \n",
       "3     57009.756                 53.0  \n",
       "4     57009.756               3767.0  \n",
       "..          ...                  ...  \n",
       "960  106399.924                  NaN  \n",
       "961  106399.924               3987.0  \n",
       "962     636.039                  NaN  \n",
       "963     636.039                  NaN  \n",
       "964     636.039                  NaN  \n",
       "\n",
       "[965 rows x 21 columns]"
      ]
     },
     "execution_count": 61,
     "metadata": {},
     "output_type": "execute_result"
    }
   ],
   "source": [
    "merge_dispoAli_pop_cereale[\"Quantite_du_Cereale\"]=  merge_dispoAli_pop_cereale[\"Production\"]+ \\\n",
    "                                                    merge_dispoAli_pop_cereale[\"Importations - Quantité\"]- \\\n",
    "                                                    merge_dispoAli_pop_cereale[\"Pertes\"]+ \\\n",
    "                                                    merge_dispoAli_pop_cereale[\"Variation de stock\"]+ \\\n",
    "                                                    merge_dispoAli_pop_cereale[\"Semences\"]\n",
    "\n",
    "merge_dispoAli_pop_cereale"
   ]
  },
  {
   "cell_type": "code",
   "execution_count": 62,
   "id": "ec5bdd8a-668f-42cf-9ec6-892ff1f0b7b6",
   "metadata": {},
   "outputs": [],
   "source": [
    "dispo_cereale_humaine = dispoAlimentaire[dispo_alim_cereale][\"Nourriture\"]. sum()"
   ]
  },
  {
   "cell_type": "code",
   "execution_count": 63,
   "id": "51b78064-032c-4c9f-a51c-9dd39074bcd4",
   "metadata": {},
   "outputs": [
    {
     "name": "stdout",
     "output_type": "stream",
     "text": [
      "La disponibilité en cereale pour la nourriture est de 521216.0\n"
     ]
    }
   ],
   "source": [
    "print(\"La disponibilité en cereale pour la nourriture est de\", dispo_cereale_humaine)\n"
   ]
  },
  {
   "cell_type": "code",
   "execution_count": 64,
   "id": "38833ac6-0487-4020-94ca-602aa2c3b6fa",
   "metadata": {},
   "outputs": [],
   "source": [
    "dispo_cereale_animal = dispoAlimentaire[dispo_alim_cereale][\"Aliments pour animaux\"]. sum()"
   ]
  },
  {
   "cell_type": "code",
   "execution_count": 65,
   "id": "873cad0a-cc0b-43d7-8920-f7c8b88488f1",
   "metadata": {},
   "outputs": [
    {
     "name": "stdout",
     "output_type": "stream",
     "text": [
      "La disponibilité en cereale pour les animaux est de 274790.0\n"
     ]
    }
   ],
   "source": [
    "print(\"La disponibilité en cereale pour les animaux est de\",dispo_cereale_animal)"
   ]
  },
  {
   "cell_type": "code",
   "execution_count": 66,
   "id": "7c48f1d7-9424-41ee-8105-fdcc066636d5",
   "metadata": {},
   "outputs": [],
   "source": [
    "diospoInterieure = dispoAlimentaire[dispo_alim_cereale][\"Disponibilité intérieure\"].sum()"
   ]
  },
  {
   "cell_type": "code",
   "execution_count": 67,
   "id": "b5396503-94a9-4895-bb6f-7ced07535fef",
   "metadata": {},
   "outputs": [
    {
     "data": {
      "text/plain": [
       "948059.0"
      ]
     },
     "execution_count": 67,
     "metadata": {},
     "output_type": "execute_result"
    }
   ],
   "source": [
    "diospoInterieure"
   ]
  },
  {
   "cell_type": "code",
   "execution_count": 68,
   "id": "b8c87583-e275-4ffb-8fd5-f03615cb4d6c",
   "metadata": {},
   "outputs": [],
   "source": [
    "part_dispo_cereale_humaine = dispo_cereale_humaine/diospoInterieure* 100"
   ]
  },
  {
   "cell_type": "code",
   "execution_count": 69,
   "id": "628e7512-a7db-4ae3-89fe-f8d6c8d8037a",
   "metadata": {},
   "outputs": [
    {
     "data": {
      "text/plain": [
       "54.97716914242679"
      ]
     },
     "execution_count": 69,
     "metadata": {},
     "output_type": "execute_result"
    }
   ],
   "source": [
    "part_dispo_cereale_humaine"
   ]
  },
  {
   "cell_type": "code",
   "execution_count": 70,
   "id": "2ed16ccd-7a2a-4fda-a1e8-fcfc7b78b32b",
   "metadata": {},
   "outputs": [],
   "source": [
    "part_dispo_cereale_animal = dispo_cereale_animal/diospoInterieure* 100"
   ]
  },
  {
   "cell_type": "code",
   "execution_count": 71,
   "id": "5b6bbd1a-5e62-4424-8259-32b6d66dca62",
   "metadata": {},
   "outputs": [
    {
     "data": {
      "text/plain": [
       "28.984483033228948"
      ]
     },
     "execution_count": 71,
     "metadata": {},
     "output_type": "execute_result"
    }
   ],
   "source": [
    "part_dispo_cereale_animal"
   ]
  },
  {
   "cell_type": "code",
   "execution_count": 72,
   "id": "768c08d3-be9f-49cc-9d0a-67c418d285e3",
   "metadata": {},
   "outputs": [],
   "source": [
    "part_dispo_cereale_perdu = (dispoAlimentaire[dispo_alim_cereale][\"Pertes\"]. sum())/diospoInterieure* 100"
   ]
  },
  {
   "cell_type": "code",
   "execution_count": 73,
   "id": "d13beab8-1b4a-4eb9-8c69-669d0ab99191",
   "metadata": {},
   "outputs": [
    {
     "data": {
      "text/plain": [
       "4.035191902613656"
      ]
     },
     "execution_count": 73,
     "metadata": {},
     "output_type": "execute_result"
    }
   ],
   "source": [
    "part_dispo_cereale_perdu"
   ]
  },
  {
   "cell_type": "code",
   "execution_count": 74,
   "id": "f57dd0be-29d7-4d46-aef5-6f708e6ce92c",
   "metadata": {},
   "outputs": [],
   "source": [
    "part_dispo_cereale_autres_utilisations = (dispoAlimentaire[dispo_alim_cereale][\"Autres Utilisations\"]. sum())/diospoInterieure* 100"
   ]
  },
  {
   "cell_type": "code",
   "execution_count": 75,
   "id": "579f760e-c23e-4e46-bdd5-57c89aa7f1b0",
   "metadata": {},
   "outputs": [
    {
     "data": {
      "text/plain": [
       "2.694874475111781"
      ]
     },
     "execution_count": 75,
     "metadata": {},
     "output_type": "execute_result"
    }
   ],
   "source": [
    "part_dispo_cereale_autres_utilisations"
   ]
  },
  {
   "cell_type": "markdown",
   "id": "9600ac0f-bdd8-4cbe-8c21-21a885ef390c",
   "metadata": {},
   "source": [
    "***les pays pour lesquels la proportion de personnes sous-alimentées est la plus forte en 2017***"
   ]
  },
  {
   "cell_type": "code",
   "execution_count": 76,
   "id": "f28ee6c0-947c-4c30-a393-0d334a745186",
   "metadata": {},
   "outputs": [],
   "source": [
    "merge_pop_sousNutri = pd.merge(sousNutrition, population, on = [\"Zone\", \"Année\"] )"
   ]
  },
  {
   "cell_type": "code",
   "execution_count": 77,
   "id": "d341a9d4-7a05-480b-ab8e-6eb4fe103f94",
   "metadata": {},
   "outputs": [
    {
     "data": {
      "text/html": [
       "<div>\n",
       "<style scoped>\n",
       "    .dataframe tbody tr th:only-of-type {\n",
       "        vertical-align: middle;\n",
       "    }\n",
       "\n",
       "    .dataframe tbody tr th {\n",
       "        vertical-align: top;\n",
       "    }\n",
       "\n",
       "    .dataframe thead th {\n",
       "        text-align: right;\n",
       "    }\n",
       "</style>\n",
       "<table border=\"1\" class=\"dataframe\">\n",
       "  <thead>\n",
       "    <tr style=\"text-align: right;\">\n",
       "      <th></th>\n",
       "      <th>Zone</th>\n",
       "      <th>Année</th>\n",
       "      <th>Valeur_x</th>\n",
       "      <th>Valeur_y</th>\n",
       "    </tr>\n",
       "  </thead>\n",
       "  <tbody>\n",
       "    <tr>\n",
       "      <th>0</th>\n",
       "      <td>Afghanistan</td>\n",
       "      <td>2013</td>\n",
       "      <td>8.6</td>\n",
       "      <td>32269.589</td>\n",
       "    </tr>\n",
       "    <tr>\n",
       "      <th>1</th>\n",
       "      <td>Afghanistan</td>\n",
       "      <td>2014</td>\n",
       "      <td>8.8</td>\n",
       "      <td>33370.794</td>\n",
       "    </tr>\n",
       "    <tr>\n",
       "      <th>2</th>\n",
       "      <td>Afghanistan</td>\n",
       "      <td>2015</td>\n",
       "      <td>8.9</td>\n",
       "      <td>34413.603</td>\n",
       "    </tr>\n",
       "    <tr>\n",
       "      <th>3</th>\n",
       "      <td>Afghanistan</td>\n",
       "      <td>2016</td>\n",
       "      <td>9.7</td>\n",
       "      <td>35383.032</td>\n",
       "    </tr>\n",
       "    <tr>\n",
       "      <th>4</th>\n",
       "      <td>Afghanistan</td>\n",
       "      <td>2017</td>\n",
       "      <td>10.5</td>\n",
       "      <td>36296.113</td>\n",
       "    </tr>\n",
       "    <tr>\n",
       "      <th>...</th>\n",
       "      <td>...</td>\n",
       "      <td>...</td>\n",
       "      <td>...</td>\n",
       "      <td>...</td>\n",
       "    </tr>\n",
       "    <tr>\n",
       "      <th>1213</th>\n",
       "      <td>Zimbabwe</td>\n",
       "      <td>2014</td>\n",
       "      <td>NaN</td>\n",
       "      <td>13586.707</td>\n",
       "    </tr>\n",
       "    <tr>\n",
       "      <th>1214</th>\n",
       "      <td>Zimbabwe</td>\n",
       "      <td>2015</td>\n",
       "      <td>NaN</td>\n",
       "      <td>13814.629</td>\n",
       "    </tr>\n",
       "    <tr>\n",
       "      <th>1215</th>\n",
       "      <td>Zimbabwe</td>\n",
       "      <td>2016</td>\n",
       "      <td>NaN</td>\n",
       "      <td>14030.331</td>\n",
       "    </tr>\n",
       "    <tr>\n",
       "      <th>1216</th>\n",
       "      <td>Zimbabwe</td>\n",
       "      <td>2017</td>\n",
       "      <td>NaN</td>\n",
       "      <td>14236.595</td>\n",
       "    </tr>\n",
       "    <tr>\n",
       "      <th>1217</th>\n",
       "      <td>Zimbabwe</td>\n",
       "      <td>2018</td>\n",
       "      <td>NaN</td>\n",
       "      <td>14438.802</td>\n",
       "    </tr>\n",
       "  </tbody>\n",
       "</table>\n",
       "<p>1218 rows × 4 columns</p>\n",
       "</div>"
      ],
      "text/plain": [
       "             Zone  Année  Valeur_x   Valeur_y\n",
       "0     Afghanistan   2013       8.6  32269.589\n",
       "1     Afghanistan   2014       8.8  33370.794\n",
       "2     Afghanistan   2015       8.9  34413.603\n",
       "3     Afghanistan   2016       9.7  35383.032\n",
       "4     Afghanistan   2017      10.5  36296.113\n",
       "...           ...    ...       ...        ...\n",
       "1213     Zimbabwe   2014       NaN  13586.707\n",
       "1214     Zimbabwe   2015       NaN  13814.629\n",
       "1215     Zimbabwe   2016       NaN  14030.331\n",
       "1216     Zimbabwe   2017       NaN  14236.595\n",
       "1217     Zimbabwe   2018       NaN  14438.802\n",
       "\n",
       "[1218 rows x 4 columns]"
      ]
     },
     "execution_count": 77,
     "metadata": {},
     "output_type": "execute_result"
    }
   ],
   "source": [
    "merge_pop_sousNutri "
   ]
  },
  {
   "cell_type": "code",
   "execution_count": 78,
   "id": "03402d54-cb9d-45c6-8fb2-176943e07c3b",
   "metadata": {},
   "outputs": [],
   "source": [
    "proportion_en_sous_nutrition =( merge_pop_sousNutri[\"Valeur_x\"]* 1000000)/(merge_pop_sousNutri[\"Valeur_y\"]* 1000)"
   ]
  },
  {
   "cell_type": "code",
   "execution_count": 79,
   "id": "4e5a65e3-a690-4f31-b6b8-dd895a7338e6",
   "metadata": {},
   "outputs": [],
   "source": [
    "merge_pop_sousNutri.insert(4, \"proportion_en_sousNutrition\", (( merge_pop_sousNutri[\"Valeur_x\"]* 1000000)/(merge_pop_sousNutri[\"Valeur_y\"]* 1000))* 100, allow_duplicates=False)"
   ]
  },
  {
   "cell_type": "code",
   "execution_count": 80,
   "id": "165fcb4b-05f1-4b78-b9aa-c28b972b259a",
   "metadata": {},
   "outputs": [
    {
     "data": {
      "text/html": [
       "<div>\n",
       "<style scoped>\n",
       "    .dataframe tbody tr th:only-of-type {\n",
       "        vertical-align: middle;\n",
       "    }\n",
       "\n",
       "    .dataframe tbody tr th {\n",
       "        vertical-align: top;\n",
       "    }\n",
       "\n",
       "    .dataframe thead th {\n",
       "        text-align: right;\n",
       "    }\n",
       "</style>\n",
       "<table border=\"1\" class=\"dataframe\">\n",
       "  <thead>\n",
       "    <tr style=\"text-align: right;\">\n",
       "      <th></th>\n",
       "      <th>Zone</th>\n",
       "      <th>Année</th>\n",
       "      <th>Valeur_x</th>\n",
       "      <th>Valeur_y</th>\n",
       "      <th>proportion_en_sousNutrition</th>\n",
       "    </tr>\n",
       "  </thead>\n",
       "  <tbody>\n",
       "    <tr>\n",
       "      <th>4</th>\n",
       "      <td>Afghanistan</td>\n",
       "      <td>2017</td>\n",
       "      <td>10.5</td>\n",
       "      <td>36296.113</td>\n",
       "      <td>28.928718</td>\n",
       "    </tr>\n",
       "    <tr>\n",
       "      <th>10</th>\n",
       "      <td>Afrique du Sud</td>\n",
       "      <td>2017</td>\n",
       "      <td>3.1</td>\n",
       "      <td>57009.756</td>\n",
       "      <td>5.437666</td>\n",
       "    </tr>\n",
       "    <tr>\n",
       "      <th>16</th>\n",
       "      <td>Albanie</td>\n",
       "      <td>2017</td>\n",
       "      <td>0.1</td>\n",
       "      <td>2884.169</td>\n",
       "      <td>3.467203</td>\n",
       "    </tr>\n",
       "    <tr>\n",
       "      <th>22</th>\n",
       "      <td>Algérie</td>\n",
       "      <td>2017</td>\n",
       "      <td>1.3</td>\n",
       "      <td>41389.189</td>\n",
       "      <td>3.140917</td>\n",
       "    </tr>\n",
       "    <tr>\n",
       "      <th>28</th>\n",
       "      <td>Allemagne</td>\n",
       "      <td>2017</td>\n",
       "      <td>NaN</td>\n",
       "      <td>82658.409</td>\n",
       "      <td>NaN</td>\n",
       "    </tr>\n",
       "    <tr>\n",
       "      <th>...</th>\n",
       "      <td>...</td>\n",
       "      <td>...</td>\n",
       "      <td>...</td>\n",
       "      <td>...</td>\n",
       "      <td>...</td>\n",
       "    </tr>\n",
       "    <tr>\n",
       "      <th>1192</th>\n",
       "      <td>Venezuela (République bolivarienne du)</td>\n",
       "      <td>2017</td>\n",
       "      <td>8.0</td>\n",
       "      <td>29402.484</td>\n",
       "      <td>27.208586</td>\n",
       "    </tr>\n",
       "    <tr>\n",
       "      <th>1198</th>\n",
       "      <td>Viet Nam</td>\n",
       "      <td>2017</td>\n",
       "      <td>6.5</td>\n",
       "      <td>94600.648</td>\n",
       "      <td>6.870989</td>\n",
       "    </tr>\n",
       "    <tr>\n",
       "      <th>1204</th>\n",
       "      <td>Yémen</td>\n",
       "      <td>2017</td>\n",
       "      <td>NaN</td>\n",
       "      <td>27834.819</td>\n",
       "      <td>NaN</td>\n",
       "    </tr>\n",
       "    <tr>\n",
       "      <th>1210</th>\n",
       "      <td>Zambie</td>\n",
       "      <td>2017</td>\n",
       "      <td>NaN</td>\n",
       "      <td>16853.599</td>\n",
       "      <td>NaN</td>\n",
       "    </tr>\n",
       "    <tr>\n",
       "      <th>1216</th>\n",
       "      <td>Zimbabwe</td>\n",
       "      <td>2017</td>\n",
       "      <td>NaN</td>\n",
       "      <td>14236.595</td>\n",
       "      <td>NaN</td>\n",
       "    </tr>\n",
       "  </tbody>\n",
       "</table>\n",
       "<p>203 rows × 5 columns</p>\n",
       "</div>"
      ],
      "text/plain": [
       "                                        Zone  Année  Valeur_x   Valeur_y  \\\n",
       "4                                Afghanistan   2017      10.5  36296.113   \n",
       "10                            Afrique du Sud   2017       3.1  57009.756   \n",
       "16                                   Albanie   2017       0.1   2884.169   \n",
       "22                                   Algérie   2017       1.3  41389.189   \n",
       "28                                 Allemagne   2017       NaN  82658.409   \n",
       "...                                      ...    ...       ...        ...   \n",
       "1192  Venezuela (République bolivarienne du)   2017       8.0  29402.484   \n",
       "1198                                Viet Nam   2017       6.5  94600.648   \n",
       "1204                                   Yémen   2017       NaN  27834.819   \n",
       "1210                                  Zambie   2017       NaN  16853.599   \n",
       "1216                                Zimbabwe   2017       NaN  14236.595   \n",
       "\n",
       "      proportion_en_sousNutrition  \n",
       "4                       28.928718  \n",
       "10                       5.437666  \n",
       "16                       3.467203  \n",
       "22                       3.140917  \n",
       "28                            NaN  \n",
       "...                           ...  \n",
       "1192                    27.208586  \n",
       "1198                     6.870989  \n",
       "1204                          NaN  \n",
       "1210                          NaN  \n",
       "1216                          NaN  \n",
       "\n",
       "[203 rows x 5 columns]"
      ]
     },
     "execution_count": 80,
     "metadata": {},
     "output_type": "execute_result"
    }
   ],
   "source": [
    "merge_pop_sousNutri[merge_pop_sousNutri[\"Année\"] == 2017]"
   ]
  },
  {
   "cell_type": "code",
   "execution_count": 81,
   "id": "123d2a07-8923-4167-96dc-cba10715d205",
   "metadata": {},
   "outputs": [],
   "source": [
    "proportion_en_souNutrition_en_2017 =merge_pop_sousNutri[merge_pop_sousNutri[\"Année\"] == 2017].sort_values(by= \"proportion_en_sousNutrition\", ascending = False)"
   ]
  },
  {
   "cell_type": "code",
   "execution_count": 82,
   "id": "bd4a10ba-2a1c-4f4f-b9e2-fb366c496311",
   "metadata": {},
   "outputs": [
    {
     "data": {
      "text/html": [
       "<div>\n",
       "<style scoped>\n",
       "    .dataframe tbody tr th:only-of-type {\n",
       "        vertical-align: middle;\n",
       "    }\n",
       "\n",
       "    .dataframe tbody tr th {\n",
       "        vertical-align: top;\n",
       "    }\n",
       "\n",
       "    .dataframe thead th {\n",
       "        text-align: right;\n",
       "    }\n",
       "</style>\n",
       "<table border=\"1\" class=\"dataframe\">\n",
       "  <thead>\n",
       "    <tr style=\"text-align: right;\">\n",
       "      <th></th>\n",
       "      <th>Zone</th>\n",
       "      <th>Année</th>\n",
       "      <th>Valeur_x</th>\n",
       "      <th>Valeur_y</th>\n",
       "      <th>proportion_en_sousNutrition</th>\n",
       "    </tr>\n",
       "  </thead>\n",
       "  <tbody>\n",
       "    <tr>\n",
       "      <th>310</th>\n",
       "      <td>Dominique</td>\n",
       "      <td>2017</td>\n",
       "      <td>0.05</td>\n",
       "      <td>71.458</td>\n",
       "      <td>69.971172</td>\n",
       "    </tr>\n",
       "    <tr>\n",
       "      <th>472</th>\n",
       "      <td>Haïti</td>\n",
       "      <td>2017</td>\n",
       "      <td>5.30</td>\n",
       "      <td>10982.366</td>\n",
       "      <td>48.259182</td>\n",
       "    </tr>\n",
       "    <tr>\n",
       "      <th>946</th>\n",
       "      <td>République populaire démocratique de Corée</td>\n",
       "      <td>2017</td>\n",
       "      <td>12.00</td>\n",
       "      <td>25429.825</td>\n",
       "      <td>47.188685</td>\n",
       "    </tr>\n",
       "    <tr>\n",
       "      <th>988</th>\n",
       "      <td>Saint-Vincent-et-les Grenadines</td>\n",
       "      <td>2017</td>\n",
       "      <td>0.05</td>\n",
       "      <td>109.827</td>\n",
       "      <td>45.526146</td>\n",
       "    </tr>\n",
       "    <tr>\n",
       "      <th>592</th>\n",
       "      <td>Kiribati</td>\n",
       "      <td>2017</td>\n",
       "      <td>0.05</td>\n",
       "      <td>114.158</td>\n",
       "      <td>43.798945</td>\n",
       "    </tr>\n",
       "    <tr>\n",
       "      <th>652</th>\n",
       "      <td>Madagascar</td>\n",
       "      <td>2017</td>\n",
       "      <td>10.50</td>\n",
       "      <td>25570.512</td>\n",
       "      <td>41.062924</td>\n",
       "    </tr>\n",
       "    <tr>\n",
       "      <th>622</th>\n",
       "      <td>Libéria</td>\n",
       "      <td>2017</td>\n",
       "      <td>1.80</td>\n",
       "      <td>4702.226</td>\n",
       "      <td>38.279742</td>\n",
       "    </tr>\n",
       "    <tr>\n",
       "      <th>604</th>\n",
       "      <td>Lesotho</td>\n",
       "      <td>2017</td>\n",
       "      <td>0.80</td>\n",
       "      <td>2091.534</td>\n",
       "      <td>38.249438</td>\n",
       "    </tr>\n",
       "    <tr>\n",
       "      <th>1102</th>\n",
       "      <td>Tchad</td>\n",
       "      <td>2017</td>\n",
       "      <td>5.70</td>\n",
       "      <td>15016.753</td>\n",
       "      <td>37.957606</td>\n",
       "    </tr>\n",
       "    <tr>\n",
       "      <th>970</th>\n",
       "      <td>Rwanda</td>\n",
       "      <td>2017</td>\n",
       "      <td>4.20</td>\n",
       "      <td>11980.961</td>\n",
       "      <td>35.055619</td>\n",
       "    </tr>\n",
       "  </tbody>\n",
       "</table>\n",
       "</div>"
      ],
      "text/plain": [
       "                                            Zone  Année  Valeur_x   Valeur_y  \\\n",
       "310                                    Dominique   2017      0.05     71.458   \n",
       "472                                        Haïti   2017      5.30  10982.366   \n",
       "946   République populaire démocratique de Corée   2017     12.00  25429.825   \n",
       "988              Saint-Vincent-et-les Grenadines   2017      0.05    109.827   \n",
       "592                                     Kiribati   2017      0.05    114.158   \n",
       "652                                   Madagascar   2017     10.50  25570.512   \n",
       "622                                      Libéria   2017      1.80   4702.226   \n",
       "604                                      Lesotho   2017      0.80   2091.534   \n",
       "1102                                       Tchad   2017      5.70  15016.753   \n",
       "970                                       Rwanda   2017      4.20  11980.961   \n",
       "\n",
       "      proportion_en_sousNutrition  \n",
       "310                     69.971172  \n",
       "472                     48.259182  \n",
       "946                     47.188685  \n",
       "988                     45.526146  \n",
       "592                     43.798945  \n",
       "652                     41.062924  \n",
       "622                     38.279742  \n",
       "604                     38.249438  \n",
       "1102                    37.957606  \n",
       "970                     35.055619  "
      ]
     },
     "execution_count": 82,
     "metadata": {},
     "output_type": "execute_result"
    }
   ],
   "source": [
    "proportion_en_souNutrition_en_2017.head(10)"
   ]
  },
  {
   "cell_type": "code",
   "execution_count": 83,
   "id": "839c6361-fad3-47cf-8bcf-3aaab7d02c7b",
   "metadata": {},
   "outputs": [
    {
     "data": {
      "image/png": "[encoded data removed]",
      "text/plain": [
       "<Figure size 432x288 with 1 Axes>"
      ]
     },
     "metadata": {
      "needs_background": "light"
     },
     "output_type": "display_data"
    }
   ],
   "source": [
    "sous_nutrition = proportion_en_souNutrition_en_2017.head(10)\n",
    "x = sous_nutrition[\"Zone\"] \n",
    "y = sous_nutrition[\"proportion_en_sousNutrition\"]\n",
    "ax =plt.axes()\n",
    "plt.title(\"Les plays les plus touchés par la sous-nutrition en 2017\")\n",
    "ax.set(xlabel = \"% en sous-nutrition\", ylabel = \"Pays\" )         \n",
    "plt.barh(x,y)\n",
    "plt.show()"
   ]
  },
  {
   "cell_type": "code",
   "execution_count": null,
   "id": "69f3a8c4-aeb6-46e0-af59-feb17e7edca3",
   "metadata": {},
   "outputs": [],
   "source": []
  },
  {
   "cell_type": "markdown",
   "id": "70c484de-877d-4f47-91bd-977158e9f65d",
   "metadata": {},
   "source": [
    "***Les pays qui ont le plus bénéficié d’aide depuis 2013***"
   ]
  },
  {
   "cell_type": "code",
   "execution_count": 84,
   "id": "a49ab786-cbb8-48d3-a1f9-b23259e37e12",
   "metadata": {},
   "outputs": [],
   "source": [
    "pays_bénéficiaire =(aideAlimentaire.groupby(\"Pays bénéficiaire\")[\"Valeur\"].sum()).sort_values( ascending = False)"
   ]
  },
  {
   "cell_type": "code",
   "execution_count": 85,
   "id": "4a056d34-a072-45e0-8bb9-3e921e5ae2b0",
   "metadata": {},
   "outputs": [
    {
     "data": {
      "text/plain": [
       "Pays bénéficiaire\n",
       "République arabe syrienne           1858943\n",
       "Éthiopie                            1381294\n",
       "Yémen                               1206484\n",
       "Soudan du Sud                        695248\n",
       "Soudan                               669784\n",
       "Kenya                                552836\n",
       "Bangladesh                           348188\n",
       "Somalie                              292678\n",
       "République démocratique du Congo     288502\n",
       "Niger                                276344\n",
       "Name: Valeur, dtype: int64"
      ]
     },
     "execution_count": 85,
     "metadata": {},
     "output_type": "execute_result"
    }
   ],
   "source": [
    "pays_bénéficiaire.head(10)"
   ]
  },
  {
   "cell_type": "code",
   "execution_count": 86,
   "id": "af3f4a1c-0a00-40fb-a6f1-5f987c19683a",
   "metadata": {},
   "outputs": [
    {
     "data": {
      "text/plain": [
       "<AxesSubplot:xlabel='Pays bénéficiaire'>"
      ]
     },
     "execution_count": 86,
     "metadata": {},
     "output_type": "execute_result"
    },
    {
     "data": {
      "image/png": "[encoded data removed]",
      "text/plain": [
       "<Figure size 432x288 with 1 Axes>"
      ]
     },
     "metadata": {
      "needs_background": "light"
     },
     "output_type": "display_data"
    }
   ],
   "source": [
    "pays_bénéficiaire.head(10).plot.bar(legend=True)"
   ]
  },
  {
   "cell_type": "markdown",
   "id": "77999dd4-507d-4266-8022-77311abee8f4",
   "metadata": {},
   "source": [
    "***Les pays ayant le plus de disponibilité par habitant***"
   ]
  },
  {
   "cell_type": "code",
   "execution_count": 87,
   "id": "59a0e749-56d0-4dcf-9daf-fa0a2f15d161",
   "metadata": {},
   "outputs": [],
   "source": [
    "merge_dispoAli_pop = pd.merge(dispoAlimentaire, population, on = 'Zone')"
   ]
  },
  {
   "cell_type": "code",
   "execution_count": 88,
   "id": "a86e597f-a36b-43bc-9855-b00332eb63f8",
   "metadata": {},
   "outputs": [],
   "source": [
    "dispo_aliment_par_habitant = (merge_dispoAli_pop['Disponibilité intérieure']* 1000)/(merge_dispoAli_pop['Valeur']* 1000)"
   ]
  },
  {
   "cell_type": "code",
   "execution_count": 89,
   "id": "1987903f-51a1-4363-b21d-5c612272e518",
   "metadata": {},
   "outputs": [],
   "source": [
    "merge_dispoAli_pop.insert(1, 'dispo_aliment_par_habitant', ((merge_dispoAli_pop['Disponibilité intérieure']* 1000)/(merge_dispoAli_pop['Valeur']* 1000))* 100,allow_duplicates=False)"
   ]
  },
  {
   "cell_type": "code",
   "execution_count": 90,
   "id": "023b39f5-06d9-4883-928a-755112ef9883",
   "metadata": {},
   "outputs": [],
   "source": [
    "pays_plus_de_dispoAlime = merge_dispoAli_pop[merge_dispoAli_pop['Année'] == 2017].sort_values(by = 'dispo_aliment_par_habitant')"
   ]
  },
  {
   "cell_type": "code",
   "execution_count": 91,
   "id": "b7fdf58b-a787-4698-9111-31f3789a0ff2",
   "metadata": {},
   "outputs": [
    {
     "data": {
      "text/html": [
       "<div>\n",
       "<style scoped>\n",
       "    .dataframe tbody tr th:only-of-type {\n",
       "        vertical-align: middle;\n",
       "    }\n",
       "\n",
       "    .dataframe tbody tr th {\n",
       "        vertical-align: top;\n",
       "    }\n",
       "\n",
       "    .dataframe thead th {\n",
       "        text-align: right;\n",
       "    }\n",
       "</style>\n",
       "<table border=\"1\" class=\"dataframe\">\n",
       "  <thead>\n",
       "    <tr style=\"text-align: right;\">\n",
       "      <th></th>\n",
       "      <th>Zone</th>\n",
       "      <th>dispo_aliment_par_habitant</th>\n",
       "    </tr>\n",
       "  </thead>\n",
       "  <tbody>\n",
       "    <tr>\n",
       "      <th>10060</th>\n",
       "      <td>Bermudes</td>\n",
       "      <td>-22.204952</td>\n",
       "    </tr>\n",
       "    <tr>\n",
       "      <th>39364</th>\n",
       "      <td>Irlande</td>\n",
       "      <td>-2.209001</td>\n",
       "    </tr>\n",
       "    <tr>\n",
       "      <th>91318</th>\n",
       "      <td>États-Unis d'Amérique</td>\n",
       "      <td>-1.055109</td>\n",
       "    </tr>\n",
       "    <tr>\n",
       "      <th>48640</th>\n",
       "      <td>Luxembourg</td>\n",
       "      <td>-1.013668</td>\n",
       "    </tr>\n",
       "    <tr>\n",
       "      <th>64798</th>\n",
       "      <td>Pays-Bas</td>\n",
       "      <td>-0.887121</td>\n",
       "    </tr>\n",
       "  </tbody>\n",
       "</table>\n",
       "</div>"
      ],
      "text/plain": [
       "                        Zone  dispo_aliment_par_habitant\n",
       "10060               Bermudes                  -22.204952\n",
       "39364                Irlande                   -2.209001\n",
       "91318  États-Unis d'Amérique                   -1.055109\n",
       "48640             Luxembourg                   -1.013668\n",
       "64798               Pays-Bas                   -0.887121"
      ]
     },
     "execution_count": 91,
     "metadata": {},
     "output_type": "execute_result"
    }
   ],
   "source": [
    "pays_plus_de_dispoAlime.iloc[:,0:2].head()"
   ]
  },
  {
   "cell_type": "markdown",
   "id": "a0404e28-eaa8-494c-9357-81631a34410b",
   "metadata": {},
   "source": [
    "***Les pays ayant le moins de disponibilité par habitant***"
   ]
  },
  {
   "cell_type": "code",
   "execution_count": 92,
   "id": "5e5863e5-9c72-4cff-bb3d-7c4a0caefd42",
   "metadata": {},
   "outputs": [],
   "source": [
    "pays_moins_de_dispoAlime = merge_dispoAli_pop[merge_dispoAli_pop['Année'] == 2017].sort_values(by = 'dispo_aliment_par_habitant', ascending = False)"
   ]
  },
  {
   "cell_type": "code",
   "execution_count": 93,
   "id": "e19786fe-93f1-4975-9e78-69b2a57381b1",
   "metadata": {},
   "outputs": [
    {
     "data": {
      "text/html": [
       "<div>\n",
       "<style scoped>\n",
       "    .dataframe tbody tr th:only-of-type {\n",
       "        vertical-align: middle;\n",
       "    }\n",
       "\n",
       "    .dataframe tbody tr th {\n",
       "        vertical-align: top;\n",
       "    }\n",
       "\n",
       "    .dataframe thead th {\n",
       "        text-align: right;\n",
       "    }\n",
       "</style>\n",
       "<table border=\"1\" class=\"dataframe\">\n",
       "  <thead>\n",
       "    <tr style=\"text-align: right;\">\n",
       "      <th></th>\n",
       "      <th>Zone</th>\n",
       "      <th>dispo_aliment_par_habitant</th>\n",
       "    </tr>\n",
       "  </thead>\n",
       "  <tbody>\n",
       "    <tr>\n",
       "      <th>27850</th>\n",
       "      <td>Eswatini</td>\n",
       "      <td>484.528429</td>\n",
       "    </tr>\n",
       "    <tr>\n",
       "      <th>12982</th>\n",
       "      <td>Brésil</td>\n",
       "      <td>355.701006</td>\n",
       "    </tr>\n",
       "    <tr>\n",
       "      <th>34870</th>\n",
       "      <td>Guyana</td>\n",
       "      <td>317.328456</td>\n",
       "    </tr>\n",
       "    <tr>\n",
       "      <th>53752</th>\n",
       "      <td>Maurice</td>\n",
       "      <td>301.779598</td>\n",
       "    </tr>\n",
       "    <tr>\n",
       "      <th>9682</th>\n",
       "      <td>Belize</td>\n",
       "      <td>286.878375</td>\n",
       "    </tr>\n",
       "  </tbody>\n",
       "</table>\n",
       "</div>"
      ],
      "text/plain": [
       "           Zone  dispo_aliment_par_habitant\n",
       "27850  Eswatini                  484.528429\n",
       "12982    Brésil                  355.701006\n",
       "34870    Guyana                  317.328456\n",
       "53752   Maurice                  301.779598\n",
       "9682     Belize                  286.878375"
      ]
     },
     "execution_count": 93,
     "metadata": {},
     "output_type": "execute_result"
    }
   ],
   "source": [
    "pays_moins_de_dispoAlime.iloc[:,0:2].head()"
   ]
  },
  {
   "cell_type": "markdown",
   "id": "b9542e0d-487e-41d7-8550-f61795ee7114",
   "metadata": {},
   "source": [
    "***Utilisation du manioc par la Thaïlande***"
   ]
  },
  {
   "cell_type": "code",
   "execution_count": 94,
   "id": "14451f00-a72c-4491-9bc7-66c44f106f49",
   "metadata": {},
   "outputs": [
    {
     "data": {
      "text/html": [
       "<div>\n",
       "<style scoped>\n",
       "    .dataframe tbody tr th:only-of-type {\n",
       "        vertical-align: middle;\n",
       "    }\n",
       "\n",
       "    .dataframe tbody tr th {\n",
       "        vertical-align: top;\n",
       "    }\n",
       "\n",
       "    .dataframe thead th {\n",
       "        text-align: right;\n",
       "    }\n",
       "</style>\n",
       "<table border=\"1\" class=\"dataframe\">\n",
       "  <thead>\n",
       "    <tr style=\"text-align: right;\">\n",
       "      <th></th>\n",
       "      <th>Zone</th>\n",
       "      <th>Année</th>\n",
       "      <th>Valeur_x</th>\n",
       "      <th>Valeur_y</th>\n",
       "      <th>proportion_en_sousNutrition</th>\n",
       "    </tr>\n",
       "  </thead>\n",
       "  <tbody>\n",
       "    <tr>\n",
       "      <th>1114</th>\n",
       "      <td>Thaïlande</td>\n",
       "      <td>2017</td>\n",
       "      <td>6.2</td>\n",
       "      <td>69209.81</td>\n",
       "      <td>8.958268</td>\n",
       "    </tr>\n",
       "  </tbody>\n",
       "</table>\n",
       "</div>"
      ],
      "text/plain": [
       "           Zone  Année  Valeur_x  Valeur_y  proportion_en_sousNutrition\n",
       "1114  Thaïlande   2017       6.2  69209.81                     8.958268"
      ]
     },
     "execution_count": 94,
     "metadata": {},
     "output_type": "execute_result"
    }
   ],
   "source": [
    "#la proportion de sous nutrition en Thaïlande\n",
    "proportion_en_souNutrition_en_2017[proportion_en_souNutrition_en_2017[\"Zone\"] == \"Thaïlande\"]"
   ]
  },
  {
   "cell_type": "code",
   "execution_count": 95,
   "id": "cd8e3e85-2a11-448d-a9ac-58afa04d837d",
   "metadata": {},
   "outputs": [
    {
     "data": {
      "text/html": [
       "<div>\n",
       "<style scoped>\n",
       "    .dataframe tbody tr th:only-of-type {\n",
       "        vertical-align: middle;\n",
       "    }\n",
       "\n",
       "    .dataframe tbody tr th {\n",
       "        vertical-align: top;\n",
       "    }\n",
       "\n",
       "    .dataframe thead th {\n",
       "        text-align: right;\n",
       "    }\n",
       "</style>\n",
       "<table border=\"1\" class=\"dataframe\">\n",
       "  <thead>\n",
       "    <tr style=\"text-align: right;\">\n",
       "      <th></th>\n",
       "      <th>Zone</th>\n",
       "      <th>Produit</th>\n",
       "      <th>Exportations - Quantité</th>\n",
       "      <th>Production</th>\n",
       "    </tr>\n",
       "  </thead>\n",
       "  <tbody>\n",
       "    <tr>\n",
       "      <th>13809</th>\n",
       "      <td>Thaïlande</td>\n",
       "      <td>Manioc</td>\n",
       "      <td>25214.0</td>\n",
       "      <td>30228.0</td>\n",
       "    </tr>\n",
       "  </tbody>\n",
       "</table>\n",
       "</div>"
      ],
      "text/plain": [
       "            Zone Produit  Exportations - Quantité  Production\n",
       "13809  Thaïlande  Manioc                  25214.0     30228.0"
      ]
     },
     "execution_count": 95,
     "metadata": {},
     "output_type": "execute_result"
    }
   ],
   "source": [
    "#l'exportation du manioc par la Thaïlande\n",
    "dispoAlimentaire_ = dispoAlimentaire[(dispoAlimentaire[\"Zone\"]=='Thaïlande') & (dispoAlimentaire[\"Produit\"]==\"Manioc\")]\n",
    "dispoAlimentaire_.iloc[:,[0,1,10,14]]"
   ]
  },
  {
   "cell_type": "code",
   "execution_count": 96,
   "id": "cdc52368-a92f-46ed-bb7e-393333864474",
   "metadata": {},
   "outputs": [
    {
     "data": {
      "text/plain": [
       "13809    83.41273\n",
       "dtype: float64"
      ]
     },
     "execution_count": 96,
     "metadata": {},
     "output_type": "execute_result"
    }
   ],
   "source": [
    "#le rapport entre la production et les exportations du manioc\n",
    "\n",
    "\n",
    "rapport_prod_exprt = dispoAlimentaire_[\"Exportations - Quantité\"]/ dispoAlimentaire_[\"Production\"]* 100\n",
    "rapport_prod_exprt\n"
   ]
  }
 ],
 "metadata": {
  "kernelspec": {
   "display_name": "Python 3 (ipykernel)",
   "language": "python",
   "name": "python3"
  },
  "language_info": {
   "codemirror_mode": {
    "name": "ipython",
    "version": 3
   },
   "file_extension": ".py",
   "mimetype": "text/x-python",
   "name": "python",
   "nbconvert_exporter": "python",
   "pygments_lexer": "ipython3",
   "version": "3.10.2"
  }
 },
 "nbformat": 4,
 "nbformat_minor": 5
}
